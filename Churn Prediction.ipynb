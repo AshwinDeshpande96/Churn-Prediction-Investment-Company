{
 "cells": [
  {
   "cell_type": "markdown",
   "id": "655df70b",
   "metadata": {},
   "source": [
    "# Churn Prediction for Investment Banking"
   ]
  },
  {
   "cell_type": "markdown",
   "id": "9229caee",
   "metadata": {},
   "source": [
    "## What is churn?\n",
    "Churn Prediction is an important problem that is beneficial for a number of companies.\n",
    "In companies such as Netflix where your major revenue is dependent on customer retention it is very important to identify customers who are most likely to leave/unsubsribe from your service and more over find the factors leading to churn."
   ]
  },
  {
   "cell_type": "markdown",
   "id": "c387a04a",
   "metadata": {},
   "source": [
    "## What causes churn?\n",
    "\n",
    "This the question we are trying to answer. While there maybe numerous reasons why a customer decides to stop using services. It is possible to find patterns in factors/features pertaining to each to be able to predict churn."
   ]
  },
  {
   "cell_type": "markdown",
   "id": "c8096676",
   "metadata": {},
   "source": [
    "## Use of predicting churn\n",
    "\n",
    "It would be most beneficial to understand that if a group of customers who are depending on a certain service is causing and issue. Predicting the group of users and their common attribute could help triangulate the source of problem and eliminate it before churn."
   ]
  },
  {
   "cell_type": "markdown",
   "id": "d871dddd",
   "metadata": {},
   "source": [
    "## Churn in Investment Banking\n",
    "\n",
    "For an investment banking company (in this dataset) we shall define churn as the number users who stop using your services/drop below significant usage for more than 28 days. This group of customers may not necessarily stop using your services but on a free tier subscription it would be beneficial to know who were most likely stop investing significant amount of funds onto your platform."
   ]
  },
  {
   "cell_type": "markdown",
   "id": "19c1b81f",
   "metadata": {},
   "source": [
    "## Predictive task\n",
    "\n",
    "The Prediction task is that of classification, i.e. given certain set of attributes of a customer such as Customer's joining date, subscription type, amount spent on services and other such data predict whether or not a customer is most likely to churn."
   ]
  },
  {
   "cell_type": "markdown",
   "id": "a04c6f73",
   "metadata": {},
   "source": [
    "**Before we start predicting** we need to identify the customers who are classified in either \"Churned/Not Churned\". \n",
    "\n",
    "We define this as any user who invests 10 dollars or less for atleast 28 days continously after the user has previously invested more than 10 dollars i.e. If user starts of smaller than 10 dollars and then increases investment higher than 10 dollars we do not consider this as churn. Only when the user has invested greater than 10 dollars then dips below 10 dollars we consider it as churn.\n",
    "\n",
    "In investment history dataset we have a list of customers and their prior record of activities along with their timestamp:"
   ]
  },
  {
   "cell_type": "code",
   "execution_count": 1,
   "id": "816d58d5",
   "metadata": {},
   "outputs": [],
   "source": [
    "import pandas as pd\n",
    "import numpy as np\n",
    "import seaborn as sns\n",
    "from matplotlib import pyplot as plt\n",
    "from random import sample"
   ]
  },
  {
   "cell_type": "markdown",
   "id": "1f13a0e3",
   "metadata": {},
   "source": [
    "Let's **explore** the data and see what we are working with"
   ]
  },
  {
   "cell_type": "code",
   "execution_count": 2,
   "id": "0b2ddaac",
   "metadata": {},
   "outputs": [],
   "source": [
    "history_data = pd.read_pickle(\"investment_history.pkl\")"
   ]
  },
  {
   "cell_type": "code",
   "execution_count": 3,
   "id": "ee4bc60d",
   "metadata": {
    "scrolled": false
   },
   "outputs": [
    {
     "data": {
      "text/html": [
       "<div>\n",
       "<style scoped>\n",
       "    .dataframe tbody tr th:only-of-type {\n",
       "        vertical-align: middle;\n",
       "    }\n",
       "\n",
       "    .dataframe tbody tr th {\n",
       "        vertical-align: top;\n",
       "    }\n",
       "\n",
       "    .dataframe thead th {\n",
       "        text-align: right;\n",
       "    }\n",
       "</style>\n",
       "<table border=\"1\" class=\"dataframe\">\n",
       "  <thead>\n",
       "    <tr style=\"text-align: right;\">\n",
       "      <th></th>\n",
       "      <th>timestamp</th>\n",
       "      <th>amount</th>\n",
       "      <th>user_id</th>\n",
       "    </tr>\n",
       "  </thead>\n",
       "  <tbody>\n",
       "    <tr>\n",
       "      <th>0</th>\n",
       "      <td>2016-11-16 00:00:00+00:00</td>\n",
       "      <td>48.16</td>\n",
       "      <td>bcef4fa9b0bdf22bcf7deae708decf03</td>\n",
       "    </tr>\n",
       "    <tr>\n",
       "      <th>1</th>\n",
       "      <td>2016-11-17 00:00:00+00:00</td>\n",
       "      <td>48.16</td>\n",
       "      <td>bcef4fa9b0bdf22bcf7deae708decf03</td>\n",
       "    </tr>\n",
       "    <tr>\n",
       "      <th>2</th>\n",
       "      <td>2016-11-18 00:00:00+00:00</td>\n",
       "      <td>48.16</td>\n",
       "      <td>bcef4fa9b0bdf22bcf7deae708decf03</td>\n",
       "    </tr>\n",
       "    <tr>\n",
       "      <th>3</th>\n",
       "      <td>2016-11-21 00:00:00+00:00</td>\n",
       "      <td>48.16</td>\n",
       "      <td>bcef4fa9b0bdf22bcf7deae708decf03</td>\n",
       "    </tr>\n",
       "    <tr>\n",
       "      <th>4</th>\n",
       "      <td>2016-11-22 00:00:00+00:00</td>\n",
       "      <td>48.16</td>\n",
       "      <td>bcef4fa9b0bdf22bcf7deae708decf03</td>\n",
       "    </tr>\n",
       "  </tbody>\n",
       "</table>\n",
       "</div>"
      ],
      "text/plain": [
       "                  timestamp  amount                           user_id\n",
       "0 2016-11-16 00:00:00+00:00   48.16  bcef4fa9b0bdf22bcf7deae708decf03\n",
       "1 2016-11-17 00:00:00+00:00   48.16  bcef4fa9b0bdf22bcf7deae708decf03\n",
       "2 2016-11-18 00:00:00+00:00   48.16  bcef4fa9b0bdf22bcf7deae708decf03\n",
       "3 2016-11-21 00:00:00+00:00   48.16  bcef4fa9b0bdf22bcf7deae708decf03\n",
       "4 2016-11-22 00:00:00+00:00   48.16  bcef4fa9b0bdf22bcf7deae708decf03"
      ]
     },
     "execution_count": 3,
     "metadata": {},
     "output_type": "execute_result"
    }
   ],
   "source": [
    "history_data.head()"
   ]
  },
  {
   "cell_type": "code",
   "execution_count": 4,
   "id": "b97d75df",
   "metadata": {},
   "outputs": [
    {
     "data": {
      "text/plain": [
       "True"
      ]
     },
     "execution_count": 4,
     "metadata": {},
     "output_type": "execute_result"
    }
   ],
   "source": [
    "# first row < second row < last row\n",
    "history_data.timestamp.iloc[0] < history_data.timestamp.iloc[1] < history_data.timestamp.iloc[-1]"
   ]
  },
  {
   "cell_type": "markdown",
   "id": "cd2d01ec",
   "metadata": {},
   "source": [
    "### Customer starting off at 10 Dollars: Not Churn"
   ]
  },
  {
   "cell_type": "code",
   "execution_count": 5,
   "id": "c50f9b94",
   "metadata": {},
   "outputs": [
    {
     "data": {
      "text/plain": [
       "<AxesSubplot:xlabel='timestamp', ylabel='amount'>"
      ]
     },
     "execution_count": 5,
     "metadata": {},
     "output_type": "execute_result"
    },
    {
     "data": {
      "image/png": "[encoded data removed]",
      "text/plain": [
       "<Figure size 432x288 with 1 Axes>"
      ]
     },
     "metadata": {
      "needs_background": "light"
     },
     "output_type": "display_data"
    }
   ],
   "source": [
    "sns.lineplot(x=\"timestamp\", y=\"amount\", data=history_data[history_data['user_id'] == \"3da247b336810bb14c8cba5d9784ffbb\"])"
   ]
  },
  {
   "cell_type": "markdown",
   "id": "2e83336f",
   "metadata": {},
   "source": [
    "### Customer dips below 10 dollars for more than 28 days: Churn"
   ]
  },
  {
   "cell_type": "code",
   "execution_count": 6,
   "id": "ee048635",
   "metadata": {},
   "outputs": [
    {
     "data": {
      "text/plain": [
       "<AxesSubplot:xlabel='timestamp', ylabel='amount'>"
      ]
     },
     "execution_count": 6,
     "metadata": {},
     "output_type": "execute_result"
    },
    {
     "data": {
      "image/png": "[encoded data removed]",
      "text/plain": [
       "<Figure size 432x288 with 1 Axes>"
      ]
     },
     "metadata": {
      "needs_background": "light"
     },
     "output_type": "display_data"
    }
   ],
   "source": [
    "sns.lineplot(x=\"timestamp\", y=\"amount\", data=history_data[history_data['user_id'] == \"d703ee629b909b767957a7c02e9440f8\"])"
   ]
  },
  {
   "cell_type": "markdown",
   "id": "6807f493",
   "metadata": {},
   "source": [
    "### Possible Customer Churn\n",
    "\n",
    "In the following graph All lines have amount value less than 10 but only some go below 10 from a higher amount"
   ]
  },
  {
   "cell_type": "code",
   "execution_count": 7,
   "id": "e1c2f35f",
   "metadata": {},
   "outputs": [],
   "source": [
    "possible_churn = ['07ee5bf682719b00115e92fcf4fddb8f', '08b9ecc05b524a3de99ce3b635518ba1', '0e469b74e2911549005bb6160074735a', '0f9505e31bcfba9e40adb71914e159ea', '147251e571c44cd4c412bd453329d007', '194f694113a2bbe6b9579cda151de38e', '22a7ccfffe68bc17f1b9d852256d6e11', '248fd3984cef3e085700fcb24f9b1a01', '264a63dd89fb2a0718608c42ababebbc', '28931128bb189f9e0ed7b465c1c6bfdf', '2af180e2c0b5e4f3c47863057d795b02', '3bcce579a525724a37cf6e9fd600bda9', '3da247b336810bb14c8cba5d9784ffbb', '3e3810f736cb08a091a43bf10b022fee', '4cec2f60c0cac2cd80a4faded6561693', '4e66293da878a10bd933672a99529b62', '506f3838d862b2a3b604da914bc26ce5', '655a3a214e88a7e520c58da80a2d9fcf', '6b7bc494bac2b0cbcbd367ee29a66c29', '7a120fb746358323cc350737d1affeb3', '7ae7f70a79a598e9bd3061594022436a', '7ae7f70a79a598e9bd3061594022436a', '7ae7f70a79a598e9bd3061594022436a', '7ae7f70a79a598e9bd3061594022436a', '7ae7f70a79a598e9bd3061594022436a', '7ae7f70a79a598e9bd3061594022436a', '7c443462124c1f0340f8979073575165', '7ece982d8f3e80817b8e0e67e52e1f4a', '7f173c66467dd6e4205688daf202ac8c', '80041bb3cf3074aa4e53410e6cf8ba0b', '88aa014aee1a11189897c975301c34d4', '8d34a9878677b377c6aa86297cf5691e', '8ea3c04d18432430d55bdc2cc5442b63', '91065d91cdcf939e3dd9009126b78827', 'a0ec89299d26ead17bbc5dffe778dba9', 'a18b4a7218e5ef7e6200fc280cf08864', 'a38e9edc394e282bbacf1a67fa454512', 'a57f3090e34a6dc3d0fd7cc4d5779f15', 'a5a007027c322796442c5576f0a68455', 'b85f175967d84e06b3fcc3ce94f45452', 'c565e81b9aeb1221821962b52f314858', 'c9436ddff9597cc8b3fba20e6c4c04bd', 'd703ee629b909b767957a7c02e9440f8', 'd7d05bd829b809df1859fdd19ac43ed6', 'e1d39ed17bc546c028ac66ab5bee2db1', 'e40991f1a148fb2972a5a570e9b51f35', 'f9ced9cba5ebf69e14afd1cdde6a8670', 'fc32f6b78b941ce7658fb177eeab5d10'] \n",
    "sns.set(rc={'figure.figsize':(8,8)})"
   ]
  },
  {
   "cell_type": "code",
   "execution_count": 8,
   "id": "80355def",
   "metadata": {},
   "outputs": [
    {
     "data": {
      "text/plain": [
       "<matplotlib.legend.Legend at 0x2a435859550>"
      ]
     },
     "execution_count": 8,
     "metadata": {},
     "output_type": "execute_result"
    },
    {
     "data": {
      "image/png": "[encoded data removed]",
      "text/plain": [
       "<Figure size 576x576 with 1 Axes>"
      ]
     },
     "metadata": {},
     "output_type": "display_data"
    }
   ],
   "source": [
    "sns.lineplot(x=\"timestamp\", y=\"amount\", data=history_data[(history_data.user_id.isin(sample(possible_churn,5)))], hue=\"user_id\", )\n",
    "plt.legend(bbox_to_anchor=(1.05, 1), loc='upper left', borderaxespad=0)"
   ]
  },
  {
   "cell_type": "code",
   "execution_count": 9,
   "id": "31ced048",
   "metadata": {},
   "outputs": [
    {
     "data": {
      "text/html": [
       "<div>\n",
       "<style scoped>\n",
       "    .dataframe tbody tr th:only-of-type {\n",
       "        vertical-align: middle;\n",
       "    }\n",
       "\n",
       "    .dataframe tbody tr th {\n",
       "        vertical-align: top;\n",
       "    }\n",
       "\n",
       "    .dataframe thead th {\n",
       "        text-align: right;\n",
       "    }\n",
       "</style>\n",
       "<table border=\"1\" class=\"dataframe\">\n",
       "  <thead>\n",
       "    <tr style=\"text-align: right;\">\n",
       "      <th></th>\n",
       "      <th>count</th>\n",
       "      <th>mean</th>\n",
       "      <th>std</th>\n",
       "      <th>min</th>\n",
       "      <th>25%</th>\n",
       "      <th>50%</th>\n",
       "      <th>75%</th>\n",
       "      <th>max</th>\n",
       "    </tr>\n",
       "  </thead>\n",
       "  <tbody>\n",
       "    <tr>\n",
       "      <th>amount</th>\n",
       "      <td>1119158.0</td>\n",
       "      <td>3976.953266</td>\n",
       "      <td>13085.903764</td>\n",
       "      <td>10.0</td>\n",
       "      <td>111.54</td>\n",
       "      <td>578.74</td>\n",
       "      <td>2564.56</td>\n",
       "      <td>478948.41</td>\n",
       "    </tr>\n",
       "  </tbody>\n",
       "</table>\n",
       "</div>"
      ],
      "text/plain": [
       "            count         mean           std   min     25%     50%      75%  \\\n",
       "amount  1119158.0  3976.953266  13085.903764  10.0  111.54  578.74  2564.56   \n",
       "\n",
       "              max  \n",
       "amount  478948.41  "
      ]
     },
     "execution_count": 9,
     "metadata": {},
     "output_type": "execute_result"
    }
   ],
   "source": [
    "history_data.describe().T"
   ]
  },
  {
   "cell_type": "code",
   "execution_count": 10,
   "id": "ec4ede7d",
   "metadata": {
    "scrolled": true
   },
   "outputs": [
    {
     "data": {
      "text/plain": [
       "8ac27ef7237f422d2d059632d2c4507b    252\n",
       "bd4d07350243b95503fe0cc211930caa    252\n",
       "15750a729d41f5435185aa67f3cd2546    252\n",
       "99b17458425108ec85f8be21566c8e74    252\n",
       "d9e378fa3774636275e4f042135ea35b    252\n",
       "Name: user_id, dtype: int64"
      ]
     },
     "execution_count": 10,
     "metadata": {},
     "output_type": "execute_result"
    }
   ],
   "source": [
    "history_data.user_id.value_counts().head()"
   ]
  },
  {
   "cell_type": "markdown",
   "id": "42dda07a",
   "metadata": {},
   "source": [
    "### Detecting churn using group by function\n",
    "Churn is marked as follows:\n",
    "#### history_data is grouped for every user --> userdf"
   ]
  },
  {
   "cell_type": "code",
   "execution_count": 11,
   "id": "23be286f",
   "metadata": {},
   "outputs": [
    {
     "data": {
      "text/html": [
       "<div>\n",
       "<style scoped>\n",
       "    .dataframe tbody tr th:only-of-type {\n",
       "        vertical-align: middle;\n",
       "    }\n",
       "\n",
       "    .dataframe tbody tr th {\n",
       "        vertical-align: top;\n",
       "    }\n",
       "\n",
       "    .dataframe thead th {\n",
       "        text-align: right;\n",
       "    }\n",
       "</style>\n",
       "<table border=\"1\" class=\"dataframe\">\n",
       "  <thead>\n",
       "    <tr style=\"text-align: right;\">\n",
       "      <th></th>\n",
       "      <th>timestamp</th>\n",
       "      <th>amount</th>\n",
       "      <th>user_id</th>\n",
       "    </tr>\n",
       "  </thead>\n",
       "  <tbody>\n",
       "    <tr>\n",
       "      <th>109404</th>\n",
       "      <td>2016-08-17 00:00:00+00:00</td>\n",
       "      <td>10.0</td>\n",
       "      <td>3da247b336810bb14c8cba5d9784ffbb</td>\n",
       "    </tr>\n",
       "    <tr>\n",
       "      <th>109405</th>\n",
       "      <td>2016-08-18 00:00:00+00:00</td>\n",
       "      <td>10.0</td>\n",
       "      <td>3da247b336810bb14c8cba5d9784ffbb</td>\n",
       "    </tr>\n",
       "    <tr>\n",
       "      <th>109406</th>\n",
       "      <td>2016-08-19 00:00:00+00:00</td>\n",
       "      <td>10.0</td>\n",
       "      <td>3da247b336810bb14c8cba5d9784ffbb</td>\n",
       "    </tr>\n",
       "    <tr>\n",
       "      <th>109407</th>\n",
       "      <td>2016-08-22 00:00:00+00:00</td>\n",
       "      <td>10.0</td>\n",
       "      <td>3da247b336810bb14c8cba5d9784ffbb</td>\n",
       "    </tr>\n",
       "    <tr>\n",
       "      <th>109408</th>\n",
       "      <td>2016-08-23 00:00:00+00:00</td>\n",
       "      <td>10.0</td>\n",
       "      <td>3da247b336810bb14c8cba5d9784ffbb</td>\n",
       "    </tr>\n",
       "  </tbody>\n",
       "</table>\n",
       "</div>"
      ],
      "text/plain": [
       "                       timestamp  amount                           user_id\n",
       "109404 2016-08-17 00:00:00+00:00    10.0  3da247b336810bb14c8cba5d9784ffbb\n",
       "109405 2016-08-18 00:00:00+00:00    10.0  3da247b336810bb14c8cba5d9784ffbb\n",
       "109406 2016-08-19 00:00:00+00:00    10.0  3da247b336810bb14c8cba5d9784ffbb\n",
       "109407 2016-08-22 00:00:00+00:00    10.0  3da247b336810bb14c8cba5d9784ffbb\n",
       "109408 2016-08-23 00:00:00+00:00    10.0  3da247b336810bb14c8cba5d9784ffbb"
      ]
     },
     "execution_count": 11,
     "metadata": {},
     "output_type": "execute_result"
    }
   ],
   "source": [
    "userdf = history_data[history_data.user_id == \"3da247b336810bb14c8cba5d9784ffbb\"]\n",
    "userdf.head()"
   ]
  },
  {
   "cell_type": "markdown",
   "id": "4a2ec83f",
   "metadata": {},
   "source": [
    "####  userdf is partitioned such that amount is same for the group --> df"
   ]
  },
  {
   "cell_type": "code",
   "execution_count": 12,
   "id": "67617469",
   "metadata": {},
   "outputs": [
    {
     "name": "stdout",
     "output_type": "stream",
     "text": [
      "                       timestamp  amount                           user_id\n",
      "109404 2016-08-17 00:00:00+00:00    10.0  3da247b336810bb14c8cba5d9784ffbb\n",
      "109405 2016-08-18 00:00:00+00:00    10.0  3da247b336810bb14c8cba5d9784ffbb\n",
      "109406 2016-08-19 00:00:00+00:00    10.0  3da247b336810bb14c8cba5d9784ffbb\n",
      "109407 2016-08-22 00:00:00+00:00    10.0  3da247b336810bb14c8cba5d9784ffbb\n",
      "109408 2016-08-23 00:00:00+00:00    10.0  3da247b336810bb14c8cba5d9784ffbb\n",
      "                       timestamp  amount                           user_id\n",
      "109530 2017-02-16 00:00:00+00:00  1510.0  3da247b336810bb14c8cba5d9784ffbb\n",
      "109531 2017-02-17 00:00:00+00:00  1510.0  3da247b336810bb14c8cba5d9784ffbb\n"
     ]
    }
   ],
   "source": [
    "for i, group in userdf.groupby([(userdf.amount != userdf.amount.shift()).cumsum()]):\n",
    "    if i > 2:\n",
    "        break\n",
    "    print(group.head())"
   ]
  },
  {
   "cell_type": "markdown",
   "id": "369517b8",
   "metadata": {},
   "source": [
    "#### The groups such that the difference between their first and last timestamp is greater than 28 days are marked as churned\n",
    "Lets have look at the first 2 consecutive groups for user_id 3da247b336810bb14c8cba5d9784ffbb"
   ]
  },
  {
   "cell_type": "code",
   "execution_count": 13,
   "id": "2313e3c4",
   "metadata": {},
   "outputs": [
    {
     "name": "stdout",
     "output_type": "stream",
     "text": [
      "                       timestamp  amount                           user_id\n",
      "109404 2016-08-17 00:00:00+00:00    10.0  3da247b336810bb14c8cba5d9784ffbb\n",
      "109405 2016-08-18 00:00:00+00:00    10.0  3da247b336810bb14c8cba5d9784ffbb\n",
      "109406 2016-08-19 00:00:00+00:00    10.0  3da247b336810bb14c8cba5d9784ffbb\n",
      "109407 2016-08-22 00:00:00+00:00    10.0  3da247b336810bb14c8cba5d9784ffbb\n",
      "109408 2016-08-23 00:00:00+00:00    10.0  3da247b336810bb14c8cba5d9784ffbb\n",
      "True\n",
      "                       timestamp  amount                           user_id\n",
      "109530 2017-02-16 00:00:00+00:00  1510.0  3da247b336810bb14c8cba5d9784ffbb\n",
      "109531 2017-02-17 00:00:00+00:00  1510.0  3da247b336810bb14c8cba5d9784ffbb\n",
      "False\n"
     ]
    }
   ],
   "source": [
    "for i, df in userdf.groupby([(userdf.amount != userdf.amount.shift()).cumsum()]):\n",
    "    if i > 2:\n",
    "        break\n",
    "    print(df.head())\n",
    "    if df.iloc[0].amount > 10 or df.shape[0] <= 1:\n",
    "        print(False)\n",
    "        continue\n",
    "    end = df.iloc[-1].timestamp\n",
    "    start = df.iloc[0].timestamp\n",
    "    if (end-start).days >= 28:\n",
    "        print(True)\n",
    "        continue\n",
    "    print(False)"
   ]
  },
  {
   "cell_type": "code",
   "execution_count": 14,
   "id": "b536469d",
   "metadata": {},
   "outputs": [],
   "source": [
    "from itertools import groupby\n",
    "def check_churn_helper(df):\n",
    "    if df.iloc[0].amount > 10 or df.shape[0] <= 1:\n",
    "        return 0\n",
    "    if (df.iloc[-1].timestamp - df.iloc[0].timestamp).days >= 28:\n",
    "        return 1\n",
    "    return 0\n",
    "def check_churn(userdf):\n",
    "    if userdf[userdf.amount <= 10].empty:\n",
    "        return 0\n",
    "    groups = userdf.groupby([(userdf.amount != userdf.amount.shift()).cumsum()]).apply(check_churn_helper).tolist()\n",
    "    while 1 in groups:\n",
    "        i = groups.index(1)\n",
    "        if 0 in groups[:i]:\n",
    "            return 1\n",
    "        else:\n",
    "            groups = groups[i+1:]\n",
    "    return 0\n",
    "    "
   ]
  },
  {
   "cell_type": "code",
   "execution_count": 15,
   "id": "92807068",
   "metadata": {
    "scrolled": true
   },
   "outputs": [],
   "source": [
    "churn_record = history_data.groupby(\"user_id\").apply(check_churn)"
   ]
  },
  {
   "cell_type": "code",
   "execution_count": 16,
   "id": "842f8678",
   "metadata": {},
   "outputs": [
    {
     "data": {
      "text/html": [
       "<div>\n",
       "<style scoped>\n",
       "    .dataframe tbody tr th:only-of-type {\n",
       "        vertical-align: middle;\n",
       "    }\n",
       "\n",
       "    .dataframe tbody tr th {\n",
       "        vertical-align: top;\n",
       "    }\n",
       "\n",
       "    .dataframe thead th {\n",
       "        text-align: right;\n",
       "    }\n",
       "</style>\n",
       "<table border=\"1\" class=\"dataframe\">\n",
       "  <thead>\n",
       "    <tr style=\"text-align: right;\">\n",
       "      <th></th>\n",
       "      <th>user_id</th>\n",
       "      <th>churn</th>\n",
       "    </tr>\n",
       "  </thead>\n",
       "  <tbody>\n",
       "    <tr>\n",
       "      <th>1679</th>\n",
       "      <td>4d9b584f3e9d0a49800079a183aa81e5</td>\n",
       "      <td>0</td>\n",
       "    </tr>\n",
       "    <tr>\n",
       "      <th>3702</th>\n",
       "      <td>aa84d899de24ba54921e07cb0ab331c8</td>\n",
       "      <td>0</td>\n",
       "    </tr>\n",
       "    <tr>\n",
       "      <th>3395</th>\n",
       "      <td>9c1fc49ea91b662b200f292a70d125c3</td>\n",
       "      <td>0</td>\n",
       "    </tr>\n",
       "    <tr>\n",
       "      <th>992</th>\n",
       "      <td>2e173611741e749304f4e33a7e71a485</td>\n",
       "      <td>0</td>\n",
       "    </tr>\n",
       "    <tr>\n",
       "      <th>1462</th>\n",
       "      <td>438340f3612614e3772bed49aaf12dff</td>\n",
       "      <td>0</td>\n",
       "    </tr>\n",
       "  </tbody>\n",
       "</table>\n",
       "</div>"
      ],
      "text/plain": [
       "                               user_id  churn\n",
       "1679  4d9b584f3e9d0a49800079a183aa81e5      0\n",
       "3702  aa84d899de24ba54921e07cb0ab331c8      0\n",
       "3395  9c1fc49ea91b662b200f292a70d125c3      0\n",
       "992   2e173611741e749304f4e33a7e71a485      0\n",
       "1462  438340f3612614e3772bed49aaf12dff      0"
      ]
     },
     "execution_count": 16,
     "metadata": {},
     "output_type": "execute_result"
    }
   ],
   "source": [
    "churn_record = churn_record.to_frame(name=\"churn\").reset_index()\n",
    "churn_record.sample(5)"
   ]
  },
  {
   "cell_type": "code",
   "execution_count": 17,
   "id": "48b12896",
   "metadata": {},
   "outputs": [
    {
     "name": "stdout",
     "output_type": "stream",
     "text": [
      "(5584, 2)\n"
     ]
    },
    {
     "data": {
      "text/html": [
       "<div>\n",
       "<style scoped>\n",
       "    .dataframe tbody tr th:only-of-type {\n",
       "        vertical-align: middle;\n",
       "    }\n",
       "\n",
       "    .dataframe tbody tr th {\n",
       "        vertical-align: top;\n",
       "    }\n",
       "\n",
       "    .dataframe thead th {\n",
       "        text-align: right;\n",
       "    }\n",
       "</style>\n",
       "<table border=\"1\" class=\"dataframe\">\n",
       "  <thead>\n",
       "    <tr style=\"text-align: right;\">\n",
       "      <th></th>\n",
       "      <th>user_id</th>\n",
       "      <th>churn</th>\n",
       "    </tr>\n",
       "  </thead>\n",
       "  <tbody>\n",
       "    <tr>\n",
       "      <th>2321</th>\n",
       "      <td>6b7bc494bac2b0cbcbd367ee29a66c29</td>\n",
       "      <td>1</td>\n",
       "    </tr>\n",
       "    <tr>\n",
       "      <th>2768</th>\n",
       "      <td>80041bb3cf3074aa4e53410e6cf8ba0b</td>\n",
       "      <td>1</td>\n",
       "    </tr>\n",
       "    <tr>\n",
       "      <th>4682</th>\n",
       "      <td>d703ee629b909b767957a7c02e9440f8</td>\n",
       "      <td>1</td>\n",
       "    </tr>\n",
       "  </tbody>\n",
       "</table>\n",
       "</div>"
      ],
      "text/plain": [
       "                               user_id  churn\n",
       "2321  6b7bc494bac2b0cbcbd367ee29a66c29      1\n",
       "2768  80041bb3cf3074aa4e53410e6cf8ba0b      1\n",
       "4682  d703ee629b909b767957a7c02e9440f8      1"
      ]
     },
     "execution_count": 17,
     "metadata": {},
     "output_type": "execute_result"
    }
   ],
   "source": [
    "print(churn_record.shape)\n",
    "churn_record[churn_record.churn == True]"
   ]
  },
  {
   "cell_type": "code",
   "execution_count": 18,
   "id": "d3b6ad36",
   "metadata": {},
   "outputs": [
    {
     "data": {
      "text/plain": [
       "<matplotlib.legend.Legend at 0x2a436fcda30>"
      ]
     },
     "execution_count": 18,
     "metadata": {},
     "output_type": "execute_result"
    },
    {
     "data": {
      "image/png": "[encoded data removed]",
      "text/plain": [
       "<Figure size 576x576 with 1 Axes>"
      ]
     },
     "metadata": {},
     "output_type": "display_data"
    }
   ],
   "source": [
    "churned_users = churn_record[churn_record.churn == True].user_id.tolist()\n",
    "sns.lineplot(x=\"timestamp\", y=\"amount\", data=history_data[(history_data.user_id.isin(churned_users))], hue=\"user_id\", )\n",
    "## Moving legend to the right\n",
    "plt.legend(bbox_to_anchor=(1.05, 1), loc='upper left', borderaxespad=0)"
   ]
  },
  {
   "cell_type": "markdown",
   "id": "ee0192bd",
   "metadata": {},
   "source": [
    "## We can now add this as a target variable in our customer dataset"
   ]
  },
  {
   "cell_type": "code",
   "execution_count": 19,
   "id": "1a52b79e",
   "metadata": {},
   "outputs": [],
   "source": [
    "data = pd.read_csv(\"customer.csv\")"
   ]
  },
  {
   "cell_type": "code",
   "execution_count": 20,
   "id": "ca16acfe",
   "metadata": {},
   "outputs": [
    {
     "name": "stdout",
     "output_type": "stream",
     "text": [
      "(5584, 9)\n"
     ]
    },
    {
     "data": {
      "text/html": [
       "<div>\n",
       "<style scoped>\n",
       "    .dataframe tbody tr th:only-of-type {\n",
       "        vertical-align: middle;\n",
       "    }\n",
       "\n",
       "    .dataframe tbody tr th {\n",
       "        vertical-align: top;\n",
       "    }\n",
       "\n",
       "    .dataframe thead th {\n",
       "        text-align: right;\n",
       "    }\n",
       "</style>\n",
       "<table border=\"1\" class=\"dataframe\">\n",
       "  <thead>\n",
       "    <tr style=\"text-align: right;\">\n",
       "      <th></th>\n",
       "      <th>0</th>\n",
       "      <th>1</th>\n",
       "      <th>2</th>\n",
       "    </tr>\n",
       "  </thead>\n",
       "  <tbody>\n",
       "    <tr>\n",
       "      <th>risk_tolerance</th>\n",
       "      <td>high_risk_tolerance</td>\n",
       "      <td>med_risk_tolerance</td>\n",
       "      <td>med_risk_tolerance</td>\n",
       "    </tr>\n",
       "    <tr>\n",
       "      <th>investment_experience</th>\n",
       "      <td>limited_investment_exp</td>\n",
       "      <td>limited_investment_exp</td>\n",
       "      <td>limited_investment_exp</td>\n",
       "    </tr>\n",
       "    <tr>\n",
       "      <th>liquidity_needs</th>\n",
       "      <td>very_important_liq_need</td>\n",
       "      <td>very_important_liq_need</td>\n",
       "      <td>very_important_liq_need</td>\n",
       "    </tr>\n",
       "    <tr>\n",
       "      <th>platform</th>\n",
       "      <td>Android</td>\n",
       "      <td>Android</td>\n",
       "      <td>iOS</td>\n",
       "    </tr>\n",
       "    <tr>\n",
       "      <th>time_spent</th>\n",
       "      <td>33.129417</td>\n",
       "      <td>16.573517</td>\n",
       "      <td>10.008367</td>\n",
       "    </tr>\n",
       "    <tr>\n",
       "      <th>instrument_type_first_traded</th>\n",
       "      <td>stock</td>\n",
       "      <td>stock</td>\n",
       "      <td>stock</td>\n",
       "    </tr>\n",
       "    <tr>\n",
       "      <th>first_deposit_amount</th>\n",
       "      <td>40.0</td>\n",
       "      <td>200.0</td>\n",
       "      <td>25.0</td>\n",
       "    </tr>\n",
       "    <tr>\n",
       "      <th>time_horizon</th>\n",
       "      <td>med_time_horizon</td>\n",
       "      <td>short_time_horizon</td>\n",
       "      <td>long_time_horizon</td>\n",
       "    </tr>\n",
       "    <tr>\n",
       "      <th>user_id</th>\n",
       "      <td>895044c23edc821881e87da749c01034</td>\n",
       "      <td>458b1d95441ced242949deefe8e4b638</td>\n",
       "      <td>c7936f653d293479e034865db9bb932f</td>\n",
       "    </tr>\n",
       "  </tbody>\n",
       "</table>\n",
       "</div>"
      ],
      "text/plain": [
       "                                                             0  \\\n",
       "risk_tolerance                             high_risk_tolerance   \n",
       "investment_experience                   limited_investment_exp   \n",
       "liquidity_needs                        very_important_liq_need   \n",
       "platform                                               Android   \n",
       "time_spent                                           33.129417   \n",
       "instrument_type_first_traded                             stock   \n",
       "first_deposit_amount                                      40.0   \n",
       "time_horizon                                  med_time_horizon   \n",
       "user_id                       895044c23edc821881e87da749c01034   \n",
       "\n",
       "                                                             1  \\\n",
       "risk_tolerance                              med_risk_tolerance   \n",
       "investment_experience                   limited_investment_exp   \n",
       "liquidity_needs                        very_important_liq_need   \n",
       "platform                                               Android   \n",
       "time_spent                                           16.573517   \n",
       "instrument_type_first_traded                             stock   \n",
       "first_deposit_amount                                     200.0   \n",
       "time_horizon                                short_time_horizon   \n",
       "user_id                       458b1d95441ced242949deefe8e4b638   \n",
       "\n",
       "                                                             2  \n",
       "risk_tolerance                              med_risk_tolerance  \n",
       "investment_experience                   limited_investment_exp  \n",
       "liquidity_needs                        very_important_liq_need  \n",
       "platform                                                   iOS  \n",
       "time_spent                                           10.008367  \n",
       "instrument_type_first_traded                             stock  \n",
       "first_deposit_amount                                      25.0  \n",
       "time_horizon                                 long_time_horizon  \n",
       "user_id                       c7936f653d293479e034865db9bb932f  "
      ]
     },
     "execution_count": 20,
     "metadata": {},
     "output_type": "execute_result"
    }
   ],
   "source": [
    "print(data.shape)\n",
    "data.head(3).T"
   ]
  },
  {
   "cell_type": "markdown",
   "id": "cfd05f36",
   "metadata": {},
   "source": [
    "## Merging Dependent and Independent variables"
   ]
  },
  {
   "cell_type": "code",
   "execution_count": 21,
   "id": "cd1ce8ba",
   "metadata": {},
   "outputs": [],
   "source": [
    "data = data.merge(churn_record, on='user_id', how='inner')"
   ]
  },
  {
   "cell_type": "code",
   "execution_count": 22,
   "id": "e8973689",
   "metadata": {},
   "outputs": [
    {
     "data": {
      "text/html": [
       "<div>\n",
       "<style scoped>\n",
       "    .dataframe tbody tr th:only-of-type {\n",
       "        vertical-align: middle;\n",
       "    }\n",
       "\n",
       "    .dataframe tbody tr th {\n",
       "        vertical-align: top;\n",
       "    }\n",
       "\n",
       "    .dataframe thead th {\n",
       "        text-align: right;\n",
       "    }\n",
       "</style>\n",
       "<table border=\"1\" class=\"dataframe\">\n",
       "  <thead>\n",
       "    <tr style=\"text-align: right;\">\n",
       "      <th></th>\n",
       "      <th>0</th>\n",
       "      <th>1</th>\n",
       "      <th>2</th>\n",
       "    </tr>\n",
       "  </thead>\n",
       "  <tbody>\n",
       "    <tr>\n",
       "      <th>risk_tolerance</th>\n",
       "      <td>high_risk_tolerance</td>\n",
       "      <td>med_risk_tolerance</td>\n",
       "      <td>med_risk_tolerance</td>\n",
       "    </tr>\n",
       "    <tr>\n",
       "      <th>investment_experience</th>\n",
       "      <td>limited_investment_exp</td>\n",
       "      <td>limited_investment_exp</td>\n",
       "      <td>limited_investment_exp</td>\n",
       "    </tr>\n",
       "    <tr>\n",
       "      <th>liquidity_needs</th>\n",
       "      <td>very_important_liq_need</td>\n",
       "      <td>very_important_liq_need</td>\n",
       "      <td>very_important_liq_need</td>\n",
       "    </tr>\n",
       "    <tr>\n",
       "      <th>platform</th>\n",
       "      <td>Android</td>\n",
       "      <td>Android</td>\n",
       "      <td>iOS</td>\n",
       "    </tr>\n",
       "    <tr>\n",
       "      <th>time_spent</th>\n",
       "      <td>33.129417</td>\n",
       "      <td>16.573517</td>\n",
       "      <td>10.008367</td>\n",
       "    </tr>\n",
       "    <tr>\n",
       "      <th>instrument_type_first_traded</th>\n",
       "      <td>stock</td>\n",
       "      <td>stock</td>\n",
       "      <td>stock</td>\n",
       "    </tr>\n",
       "    <tr>\n",
       "      <th>first_deposit_amount</th>\n",
       "      <td>40.0</td>\n",
       "      <td>200.0</td>\n",
       "      <td>25.0</td>\n",
       "    </tr>\n",
       "    <tr>\n",
       "      <th>time_horizon</th>\n",
       "      <td>med_time_horizon</td>\n",
       "      <td>short_time_horizon</td>\n",
       "      <td>long_time_horizon</td>\n",
       "    </tr>\n",
       "    <tr>\n",
       "      <th>user_id</th>\n",
       "      <td>895044c23edc821881e87da749c01034</td>\n",
       "      <td>458b1d95441ced242949deefe8e4b638</td>\n",
       "      <td>c7936f653d293479e034865db9bb932f</td>\n",
       "    </tr>\n",
       "    <tr>\n",
       "      <th>churn</th>\n",
       "      <td>0</td>\n",
       "      <td>0</td>\n",
       "      <td>0</td>\n",
       "    </tr>\n",
       "  </tbody>\n",
       "</table>\n",
       "</div>"
      ],
      "text/plain": [
       "                                                             0  \\\n",
       "risk_tolerance                             high_risk_tolerance   \n",
       "investment_experience                   limited_investment_exp   \n",
       "liquidity_needs                        very_important_liq_need   \n",
       "platform                                               Android   \n",
       "time_spent                                           33.129417   \n",
       "instrument_type_first_traded                             stock   \n",
       "first_deposit_amount                                      40.0   \n",
       "time_horizon                                  med_time_horizon   \n",
       "user_id                       895044c23edc821881e87da749c01034   \n",
       "churn                                                        0   \n",
       "\n",
       "                                                             1  \\\n",
       "risk_tolerance                              med_risk_tolerance   \n",
       "investment_experience                   limited_investment_exp   \n",
       "liquidity_needs                        very_important_liq_need   \n",
       "platform                                               Android   \n",
       "time_spent                                           16.573517   \n",
       "instrument_type_first_traded                             stock   \n",
       "first_deposit_amount                                     200.0   \n",
       "time_horizon                                short_time_horizon   \n",
       "user_id                       458b1d95441ced242949deefe8e4b638   \n",
       "churn                                                        0   \n",
       "\n",
       "                                                             2  \n",
       "risk_tolerance                              med_risk_tolerance  \n",
       "investment_experience                   limited_investment_exp  \n",
       "liquidity_needs                        very_important_liq_need  \n",
       "platform                                                   iOS  \n",
       "time_spent                                           10.008367  \n",
       "instrument_type_first_traded                             stock  \n",
       "first_deposit_amount                                      25.0  \n",
       "time_horizon                                 long_time_horizon  \n",
       "user_id                       c7936f653d293479e034865db9bb932f  \n",
       "churn                                                        0  "
      ]
     },
     "execution_count": 22,
     "metadata": {},
     "output_type": "execute_result"
    }
   ],
   "source": [
    "data.head(3).T"
   ]
  },
  {
   "cell_type": "markdown",
   "id": "7ba02ddb",
   "metadata": {},
   "source": [
    "## Target Variable"
   ]
  },
  {
   "cell_type": "code",
   "execution_count": 23,
   "id": "8d64e4e2",
   "metadata": {},
   "outputs": [
    {
     "data": {
      "text/plain": [
       "0    5581\n",
       "1       3\n",
       "Name: churn, dtype: int64"
      ]
     },
     "execution_count": 23,
     "metadata": {},
     "output_type": "execute_result"
    }
   ],
   "source": [
    "data.churn.value_counts()"
   ]
  },
  {
   "cell_type": "markdown",
   "id": "35803063",
   "metadata": {},
   "source": [
    "We can see that the classification problem is very imbalanced problem. That is, the churn percentage is much smaller than non-churn."
   ]
  },
  {
   "cell_type": "markdown",
   "id": "9e94e57d",
   "metadata": {},
   "source": [
    "Let's have a look at our predictor variables"
   ]
  },
  {
   "cell_type": "code",
   "execution_count": 24,
   "id": "b8a6477a",
   "metadata": {},
   "outputs": [
    {
     "name": "stdout",
     "output_type": "stream",
     "text": [
      "<class 'pandas.core.frame.DataFrame'>\n",
      "Int64Index: 5584 entries, 0 to 5583\n",
      "Data columns (total 10 columns):\n",
      " #   Column                        Non-Null Count  Dtype  \n",
      "---  ------                        --------------  -----  \n",
      " 0   risk_tolerance                5584 non-null   object \n",
      " 1   investment_experience         5584 non-null   object \n",
      " 2   liquidity_needs               5584 non-null   object \n",
      " 3   platform                      5584 non-null   object \n",
      " 4   time_spent                    5584 non-null   float64\n",
      " 5   instrument_type_first_traded  5584 non-null   object \n",
      " 6   first_deposit_amount          5584 non-null   float64\n",
      " 7   time_horizon                  5584 non-null   object \n",
      " 8   user_id                       5584 non-null   object \n",
      " 9   churn                         5584 non-null   int64  \n",
      "dtypes: float64(2), int64(1), object(7)\n",
      "memory usage: 479.9+ KB\n"
     ]
    }
   ],
   "source": [
    "data.info()"
   ]
  },
  {
   "cell_type": "markdown",
   "id": "bd8b09f1",
   "metadata": {},
   "source": [
    "We have two numeric column: "
   ]
  },
  {
   "cell_type": "code",
   "execution_count": 25,
   "id": "483804b5",
   "metadata": {},
   "outputs": [
    {
     "data": {
      "text/html": [
       "<div>\n",
       "<style scoped>\n",
       "    .dataframe tbody tr th:only-of-type {\n",
       "        vertical-align: middle;\n",
       "    }\n",
       "\n",
       "    .dataframe tbody tr th {\n",
       "        vertical-align: top;\n",
       "    }\n",
       "\n",
       "    .dataframe thead th {\n",
       "        text-align: right;\n",
       "    }\n",
       "</style>\n",
       "<table border=\"1\" class=\"dataframe\">\n",
       "  <thead>\n",
       "    <tr style=\"text-align: right;\">\n",
       "      <th></th>\n",
       "      <th>time_spent</th>\n",
       "      <th>first_deposit_amount</th>\n",
       "      <th>churn</th>\n",
       "    </tr>\n",
       "  </thead>\n",
       "  <tbody>\n",
       "    <tr>\n",
       "      <th>count</th>\n",
       "      <td>5584.000000</td>\n",
       "      <td>5584.000000</td>\n",
       "      <td>5584.000000</td>\n",
       "    </tr>\n",
       "    <tr>\n",
       "      <th>mean</th>\n",
       "      <td>34.509706</td>\n",
       "      <td>633.566805</td>\n",
       "      <td>0.000537</td>\n",
       "    </tr>\n",
       "    <tr>\n",
       "      <th>std</th>\n",
       "      <td>155.080551</td>\n",
       "      <td>2118.323263</td>\n",
       "      <td>0.023174</td>\n",
       "    </tr>\n",
       "    <tr>\n",
       "      <th>min</th>\n",
       "      <td>0.000000</td>\n",
       "      <td>0.000000</td>\n",
       "      <td>0.000000</td>\n",
       "    </tr>\n",
       "    <tr>\n",
       "      <th>25%</th>\n",
       "      <td>2.848908</td>\n",
       "      <td>50.000000</td>\n",
       "      <td>0.000000</td>\n",
       "    </tr>\n",
       "    <tr>\n",
       "      <th>50%</th>\n",
       "      <td>13.474708</td>\n",
       "      <td>100.000000</td>\n",
       "      <td>0.000000</td>\n",
       "    </tr>\n",
       "    <tr>\n",
       "      <th>75%</th>\n",
       "      <td>33.823829</td>\n",
       "      <td>500.000000</td>\n",
       "      <td>0.000000</td>\n",
       "    </tr>\n",
       "    <tr>\n",
       "      <th>max</th>\n",
       "      <td>8788.329450</td>\n",
       "      <td>50000.000000</td>\n",
       "      <td>1.000000</td>\n",
       "    </tr>\n",
       "  </tbody>\n",
       "</table>\n",
       "</div>"
      ],
      "text/plain": [
       "        time_spent  first_deposit_amount        churn\n",
       "count  5584.000000           5584.000000  5584.000000\n",
       "mean     34.509706            633.566805     0.000537\n",
       "std     155.080551           2118.323263     0.023174\n",
       "min       0.000000              0.000000     0.000000\n",
       "25%       2.848908             50.000000     0.000000\n",
       "50%      13.474708            100.000000     0.000000\n",
       "75%      33.823829            500.000000     0.000000\n",
       "max    8788.329450          50000.000000     1.000000"
      ]
     },
     "execution_count": 25,
     "metadata": {},
     "output_type": "execute_result"
    }
   ],
   "source": [
    "data.describe()"
   ]
  },
  {
   "cell_type": "markdown",
   "id": "0e8342ba",
   "metadata": {},
   "source": [
    "### We do not have Null Values in any of the variable"
   ]
  },
  {
   "cell_type": "code",
   "execution_count": 26,
   "id": "9024b1d9",
   "metadata": {},
   "outputs": [
    {
     "data": {
      "text/plain": [
       "risk_tolerance                  0\n",
       "investment_experience           0\n",
       "liquidity_needs                 0\n",
       "platform                        0\n",
       "time_spent                      0\n",
       "instrument_type_first_traded    0\n",
       "first_deposit_amount            0\n",
       "time_horizon                    0\n",
       "user_id                         0\n",
       "churn                           0\n",
       "dtype: int64"
      ]
     },
     "execution_count": 26,
     "metadata": {},
     "output_type": "execute_result"
    }
   ],
   "source": [
    "data.isna().sum()"
   ]
  },
  {
   "cell_type": "markdown",
   "id": "3e74a7c8",
   "metadata": {},
   "source": [
    "### First deposit amount for churned users"
   ]
  },
  {
   "cell_type": "code",
   "execution_count": 27,
   "id": "b0b42ef8",
   "metadata": {},
   "outputs": [],
   "source": [
    "sns.set(rc={'figure.figsize':(5,5)})"
   ]
  },
  {
   "cell_type": "code",
   "execution_count": 28,
   "id": "7c1c245e",
   "metadata": {},
   "outputs": [
    {
     "name": "stderr",
     "output_type": "stream",
     "text": [
      "C:\\Users\\Ashwin\\Anaconda3\\envs\\infrrd_env\\lib\\site-packages\\seaborn\\distributions.py:2619: FutureWarning: `distplot` is a deprecated function and will be removed in a future version. Please adapt your code to use either `displot` (a figure-level function with similar flexibility) or `histplot` (an axes-level function for histograms).\n",
      "  warnings.warn(msg, FutureWarning)\n"
     ]
    },
    {
     "data": {
      "image/png": "[encoded data removed]",
      "text/plain": [
       "<Figure size 360x360 with 1 Axes>"
      ]
     },
     "metadata": {},
     "output_type": "display_data"
    }
   ],
   "source": [
    "sns.distplot(data[data.churn == True].first_deposit_amount, norm_hist=False, kde=False, bins=10, hist_kws={\"alpha\": 1}\n",
    "            ).set(xlabel='first_deposit_amount', ylabel='Count');"
   ]
  },
  {
   "cell_type": "code",
   "execution_count": 29,
   "id": "f701502e",
   "metadata": {},
   "outputs": [
    {
     "data": {
      "image/png": "[encoded data removed]",
      "text/plain": [
       "<Figure size 360x360 with 1 Axes>"
      ]
     },
     "metadata": {},
     "output_type": "display_data"
    }
   ],
   "source": [
    "sns.distplot(data[data.churn == False].first_deposit_amount, norm_hist=False, kde=False, bins=10, hist_kws={\"alpha\": 1}\n",
    "            ).set(xlabel='first_deposit_amount', ylabel='Count');"
   ]
  },
  {
   "cell_type": "markdown",
   "id": "5c08db02",
   "metadata": {},
   "source": [
    "#### risk_tolerance"
   ]
  },
  {
   "cell_type": "code",
   "execution_count": 30,
   "id": "9e04a0ca",
   "metadata": {
    "scrolled": true
   },
   "outputs": [
    {
     "data": {
      "text/plain": [
       "high_risk_tolerance    3566\n",
       "med_risk_tolerance     1779\n",
       "low_risk_tolerance      239\n",
       "Name: risk_tolerance, dtype: int64"
      ]
     },
     "execution_count": 30,
     "metadata": {},
     "output_type": "execute_result"
    }
   ],
   "source": [
    "data.risk_tolerance.value_counts()"
   ]
  },
  {
   "cell_type": "markdown",
   "id": "17b27de5",
   "metadata": {},
   "source": [
    "risk_tolerance is an ordinal variable, i.e. low_risk_tolerance < med_risk_tolerance < high_risk_tolerance. There is an order.\n",
    "We can either treat this as:\n",
    "* Equally spaced interval data.\n",
    "    i.e. magnitude of difference tolerance between low and med is the same between med and high\n",
    "* Nominal data: Categorical data with no ordering: Encode as one-hot encoding"
   ]
  },
  {
   "cell_type": "code",
   "execution_count": 31,
   "id": "d93ace0a",
   "metadata": {},
   "outputs": [
    {
     "data": {
      "text/html": [
       "<div>\n",
       "<style scoped>\n",
       "    .dataframe tbody tr th:only-of-type {\n",
       "        vertical-align: middle;\n",
       "    }\n",
       "\n",
       "    .dataframe tbody tr th {\n",
       "        vertical-align: top;\n",
       "    }\n",
       "\n",
       "    .dataframe thead th {\n",
       "        text-align: right;\n",
       "    }\n",
       "</style>\n",
       "<table border=\"1\" class=\"dataframe\">\n",
       "  <thead>\n",
       "    <tr style=\"text-align: right;\">\n",
       "      <th></th>\n",
       "      <th>high_risk_tolerance</th>\n",
       "      <th>low_risk_tolerance</th>\n",
       "      <th>med_risk_tolerance</th>\n",
       "    </tr>\n",
       "  </thead>\n",
       "  <tbody>\n",
       "    <tr>\n",
       "      <th>0</th>\n",
       "      <td>1</td>\n",
       "      <td>0</td>\n",
       "      <td>0</td>\n",
       "    </tr>\n",
       "    <tr>\n",
       "      <th>1</th>\n",
       "      <td>0</td>\n",
       "      <td>0</td>\n",
       "      <td>1</td>\n",
       "    </tr>\n",
       "    <tr>\n",
       "      <th>2</th>\n",
       "      <td>0</td>\n",
       "      <td>0</td>\n",
       "      <td>1</td>\n",
       "    </tr>\n",
       "    <tr>\n",
       "      <th>3</th>\n",
       "      <td>0</td>\n",
       "      <td>0</td>\n",
       "      <td>1</td>\n",
       "    </tr>\n",
       "    <tr>\n",
       "      <th>4</th>\n",
       "      <td>1</td>\n",
       "      <td>0</td>\n",
       "      <td>0</td>\n",
       "    </tr>\n",
       "  </tbody>\n",
       "</table>\n",
       "</div>"
      ],
      "text/plain": [
       "   high_risk_tolerance  low_risk_tolerance  med_risk_tolerance\n",
       "0                    1                   0                   0\n",
       "1                    0                   0                   1\n",
       "2                    0                   0                   1\n",
       "3                    0                   0                   1\n",
       "4                    1                   0                   0"
      ]
     },
     "execution_count": 31,
     "metadata": {},
     "output_type": "execute_result"
    }
   ],
   "source": [
    "pd.get_dummies(data.risk_tolerance).head()"
   ]
  },
  {
   "cell_type": "markdown",
   "id": "9176d790",
   "metadata": {},
   "source": [
    "risk_tolerance can be encoded as:\n",
    "\n",
    "| tolerance | low | medium | high |\n",
    "| --- | --- | --- | --- |\n",
    "| low | 1 | 0 | 0 |\n",
    "| med | 0 | 1 | 0 |\n",
    "| high | 0 | 0 | 1 |\n",
    "\n",
    "third column can be dropped since high: 1 can be represented as low: 0 and med: 0.\n",
    "This is done to avoid multi-collinearity problem.\n",
    "\n",
    "We should make sure to choose the value with sufficient frequency (high_risk_tolerance) which can be reference by other variable."
   ]
  },
  {
   "cell_type": "code",
   "execution_count": 32,
   "id": "e7a16c19",
   "metadata": {},
   "outputs": [
    {
     "data": {
      "text/html": [
       "<div>\n",
       "<style scoped>\n",
       "    .dataframe tbody tr th:only-of-type {\n",
       "        vertical-align: middle;\n",
       "    }\n",
       "\n",
       "    .dataframe tbody tr th {\n",
       "        vertical-align: top;\n",
       "    }\n",
       "\n",
       "    .dataframe thead th {\n",
       "        text-align: right;\n",
       "    }\n",
       "</style>\n",
       "<table border=\"1\" class=\"dataframe\">\n",
       "  <thead>\n",
       "    <tr style=\"text-align: right;\">\n",
       "      <th></th>\n",
       "      <th>0</th>\n",
       "      <th>1</th>\n",
       "      <th>2</th>\n",
       "    </tr>\n",
       "  </thead>\n",
       "  <tbody>\n",
       "    <tr>\n",
       "      <th>investment_experience</th>\n",
       "      <td>limited_investment_exp</td>\n",
       "      <td>limited_investment_exp</td>\n",
       "      <td>limited_investment_exp</td>\n",
       "    </tr>\n",
       "    <tr>\n",
       "      <th>liquidity_needs</th>\n",
       "      <td>very_important_liq_need</td>\n",
       "      <td>very_important_liq_need</td>\n",
       "      <td>very_important_liq_need</td>\n",
       "    </tr>\n",
       "    <tr>\n",
       "      <th>platform</th>\n",
       "      <td>Android</td>\n",
       "      <td>Android</td>\n",
       "      <td>iOS</td>\n",
       "    </tr>\n",
       "    <tr>\n",
       "      <th>time_spent</th>\n",
       "      <td>33.129417</td>\n",
       "      <td>16.573517</td>\n",
       "      <td>10.008367</td>\n",
       "    </tr>\n",
       "    <tr>\n",
       "      <th>instrument_type_first_traded</th>\n",
       "      <td>stock</td>\n",
       "      <td>stock</td>\n",
       "      <td>stock</td>\n",
       "    </tr>\n",
       "    <tr>\n",
       "      <th>first_deposit_amount</th>\n",
       "      <td>40.0</td>\n",
       "      <td>200.0</td>\n",
       "      <td>25.0</td>\n",
       "    </tr>\n",
       "    <tr>\n",
       "      <th>time_horizon</th>\n",
       "      <td>med_time_horizon</td>\n",
       "      <td>short_time_horizon</td>\n",
       "      <td>long_time_horizon</td>\n",
       "    </tr>\n",
       "    <tr>\n",
       "      <th>user_id</th>\n",
       "      <td>895044c23edc821881e87da749c01034</td>\n",
       "      <td>458b1d95441ced242949deefe8e4b638</td>\n",
       "      <td>c7936f653d293479e034865db9bb932f</td>\n",
       "    </tr>\n",
       "    <tr>\n",
       "      <th>churn</th>\n",
       "      <td>0</td>\n",
       "      <td>0</td>\n",
       "      <td>0</td>\n",
       "    </tr>\n",
       "    <tr>\n",
       "      <th>low_risk_tolerance</th>\n",
       "      <td>0</td>\n",
       "      <td>0</td>\n",
       "      <td>0</td>\n",
       "    </tr>\n",
       "    <tr>\n",
       "      <th>med_risk_tolerance</th>\n",
       "      <td>0</td>\n",
       "      <td>1</td>\n",
       "      <td>1</td>\n",
       "    </tr>\n",
       "  </tbody>\n",
       "</table>\n",
       "</div>"
      ],
      "text/plain": [
       "                                                             0  \\\n",
       "investment_experience                   limited_investment_exp   \n",
       "liquidity_needs                        very_important_liq_need   \n",
       "platform                                               Android   \n",
       "time_spent                                           33.129417   \n",
       "instrument_type_first_traded                             stock   \n",
       "first_deposit_amount                                      40.0   \n",
       "time_horizon                                  med_time_horizon   \n",
       "user_id                       895044c23edc821881e87da749c01034   \n",
       "churn                                                        0   \n",
       "low_risk_tolerance                                           0   \n",
       "med_risk_tolerance                                           0   \n",
       "\n",
       "                                                             1  \\\n",
       "investment_experience                   limited_investment_exp   \n",
       "liquidity_needs                        very_important_liq_need   \n",
       "platform                                               Android   \n",
       "time_spent                                           16.573517   \n",
       "instrument_type_first_traded                             stock   \n",
       "first_deposit_amount                                     200.0   \n",
       "time_horizon                                short_time_horizon   \n",
       "user_id                       458b1d95441ced242949deefe8e4b638   \n",
       "churn                                                        0   \n",
       "low_risk_tolerance                                           0   \n",
       "med_risk_tolerance                                           1   \n",
       "\n",
       "                                                             2  \n",
       "investment_experience                   limited_investment_exp  \n",
       "liquidity_needs                        very_important_liq_need  \n",
       "platform                                                   iOS  \n",
       "time_spent                                           10.008367  \n",
       "instrument_type_first_traded                             stock  \n",
       "first_deposit_amount                                      25.0  \n",
       "time_horizon                                 long_time_horizon  \n",
       "user_id                       c7936f653d293479e034865db9bb932f  \n",
       "churn                                                        0  \n",
       "low_risk_tolerance                                           0  \n",
       "med_risk_tolerance                                           1  "
      ]
     },
     "execution_count": 32,
     "metadata": {},
     "output_type": "execute_result"
    }
   ],
   "source": [
    "risk_one_hot = pd.get_dummies(data.risk_tolerance)\n",
    "data = data.join(risk_one_hot)\n",
    "data = data.drop(['risk_tolerance', 'high_risk_tolerance'],axis = 1)\n",
    "data.head(3).T"
   ]
  },
  {
   "cell_type": "markdown",
   "id": "8c2b6da7",
   "metadata": {},
   "source": [
    "#### investment_experience"
   ]
  },
  {
   "cell_type": "code",
   "execution_count": 33,
   "id": "221282eb",
   "metadata": {},
   "outputs": [
    {
     "data": {
      "text/plain": [
       "limited_investment_exp      2578\n",
       "no_investment_exp           1796\n",
       "good_investment_exp         1134\n",
       "extensive_investment_exp      76\n",
       "Name: investment_experience, dtype: int64"
      ]
     },
     "execution_count": 33,
     "metadata": {},
     "output_type": "execute_result"
    }
   ],
   "source": [
    "data.investment_experience.value_counts()"
   ]
  },
  {
   "cell_type": "markdown",
   "id": "784bad55",
   "metadata": {},
   "source": [
    "investment_experience is an ordinal variable, i.e. \n",
    "\n",
    "no_investment_exp < limited_investment_exp < good_investment_exp < extensive_investment_exp. \n",
    "\n",
    "There is an order.\n",
    "\n",
    "Similar to risk_tolerance we shall convert investment_experience into one_hot encoding"
   ]
  },
  {
   "cell_type": "code",
   "execution_count": 34,
   "id": "df7501e7",
   "metadata": {},
   "outputs": [
    {
     "data": {
      "text/html": [
       "<div>\n",
       "<style scoped>\n",
       "    .dataframe tbody tr th:only-of-type {\n",
       "        vertical-align: middle;\n",
       "    }\n",
       "\n",
       "    .dataframe tbody tr th {\n",
       "        vertical-align: top;\n",
       "    }\n",
       "\n",
       "    .dataframe thead th {\n",
       "        text-align: right;\n",
       "    }\n",
       "</style>\n",
       "<table border=\"1\" class=\"dataframe\">\n",
       "  <thead>\n",
       "    <tr style=\"text-align: right;\">\n",
       "      <th></th>\n",
       "      <th>0</th>\n",
       "      <th>1</th>\n",
       "      <th>2</th>\n",
       "    </tr>\n",
       "  </thead>\n",
       "  <tbody>\n",
       "    <tr>\n",
       "      <th>liquidity_needs</th>\n",
       "      <td>very_important_liq_need</td>\n",
       "      <td>very_important_liq_need</td>\n",
       "      <td>very_important_liq_need</td>\n",
       "    </tr>\n",
       "    <tr>\n",
       "      <th>platform</th>\n",
       "      <td>Android</td>\n",
       "      <td>Android</td>\n",
       "      <td>iOS</td>\n",
       "    </tr>\n",
       "    <tr>\n",
       "      <th>time_spent</th>\n",
       "      <td>33.129417</td>\n",
       "      <td>16.573517</td>\n",
       "      <td>10.008367</td>\n",
       "    </tr>\n",
       "    <tr>\n",
       "      <th>instrument_type_first_traded</th>\n",
       "      <td>stock</td>\n",
       "      <td>stock</td>\n",
       "      <td>stock</td>\n",
       "    </tr>\n",
       "    <tr>\n",
       "      <th>first_deposit_amount</th>\n",
       "      <td>40.0</td>\n",
       "      <td>200.0</td>\n",
       "      <td>25.0</td>\n",
       "    </tr>\n",
       "    <tr>\n",
       "      <th>time_horizon</th>\n",
       "      <td>med_time_horizon</td>\n",
       "      <td>short_time_horizon</td>\n",
       "      <td>long_time_horizon</td>\n",
       "    </tr>\n",
       "    <tr>\n",
       "      <th>user_id</th>\n",
       "      <td>895044c23edc821881e87da749c01034</td>\n",
       "      <td>458b1d95441ced242949deefe8e4b638</td>\n",
       "      <td>c7936f653d293479e034865db9bb932f</td>\n",
       "    </tr>\n",
       "    <tr>\n",
       "      <th>churn</th>\n",
       "      <td>0</td>\n",
       "      <td>0</td>\n",
       "      <td>0</td>\n",
       "    </tr>\n",
       "    <tr>\n",
       "      <th>low_risk_tolerance</th>\n",
       "      <td>0</td>\n",
       "      <td>0</td>\n",
       "      <td>0</td>\n",
       "    </tr>\n",
       "    <tr>\n",
       "      <th>med_risk_tolerance</th>\n",
       "      <td>0</td>\n",
       "      <td>1</td>\n",
       "      <td>1</td>\n",
       "    </tr>\n",
       "    <tr>\n",
       "      <th>extensive_investment_exp</th>\n",
       "      <td>0</td>\n",
       "      <td>0</td>\n",
       "      <td>0</td>\n",
       "    </tr>\n",
       "    <tr>\n",
       "      <th>good_investment_exp</th>\n",
       "      <td>0</td>\n",
       "      <td>0</td>\n",
       "      <td>0</td>\n",
       "    </tr>\n",
       "    <tr>\n",
       "      <th>no_investment_exp</th>\n",
       "      <td>0</td>\n",
       "      <td>0</td>\n",
       "      <td>0</td>\n",
       "    </tr>\n",
       "  </tbody>\n",
       "</table>\n",
       "</div>"
      ],
      "text/plain": [
       "                                                             0  \\\n",
       "liquidity_needs                        very_important_liq_need   \n",
       "platform                                               Android   \n",
       "time_spent                                           33.129417   \n",
       "instrument_type_first_traded                             stock   \n",
       "first_deposit_amount                                      40.0   \n",
       "time_horizon                                  med_time_horizon   \n",
       "user_id                       895044c23edc821881e87da749c01034   \n",
       "churn                                                        0   \n",
       "low_risk_tolerance                                           0   \n",
       "med_risk_tolerance                                           0   \n",
       "extensive_investment_exp                                     0   \n",
       "good_investment_exp                                          0   \n",
       "no_investment_exp                                            0   \n",
       "\n",
       "                                                             1  \\\n",
       "liquidity_needs                        very_important_liq_need   \n",
       "platform                                               Android   \n",
       "time_spent                                           16.573517   \n",
       "instrument_type_first_traded                             stock   \n",
       "first_deposit_amount                                     200.0   \n",
       "time_horizon                                short_time_horizon   \n",
       "user_id                       458b1d95441ced242949deefe8e4b638   \n",
       "churn                                                        0   \n",
       "low_risk_tolerance                                           0   \n",
       "med_risk_tolerance                                           1   \n",
       "extensive_investment_exp                                     0   \n",
       "good_investment_exp                                          0   \n",
       "no_investment_exp                                            0   \n",
       "\n",
       "                                                             2  \n",
       "liquidity_needs                        very_important_liq_need  \n",
       "platform                                                   iOS  \n",
       "time_spent                                           10.008367  \n",
       "instrument_type_first_traded                             stock  \n",
       "first_deposit_amount                                      25.0  \n",
       "time_horizon                                 long_time_horizon  \n",
       "user_id                       c7936f653d293479e034865db9bb932f  \n",
       "churn                                                        0  \n",
       "low_risk_tolerance                                           0  \n",
       "med_risk_tolerance                                           1  \n",
       "extensive_investment_exp                                     0  \n",
       "good_investment_exp                                          0  \n",
       "no_investment_exp                                            0  "
      ]
     },
     "execution_count": 34,
     "metadata": {},
     "output_type": "execute_result"
    }
   ],
   "source": [
    "investment_experience_one_hot = pd.get_dummies(data.investment_experience)\n",
    "data = data.join(investment_experience_one_hot)\n",
    "data = data.drop(['investment_experience', 'limited_investment_exp'],axis = 1)\n",
    "data.head(3).T"
   ]
  },
  {
   "cell_type": "markdown",
   "id": "46c218c8",
   "metadata": {},
   "source": [
    "#### liquidity_needs"
   ]
  },
  {
   "cell_type": "code",
   "execution_count": 35,
   "id": "6f00ae06",
   "metadata": {
    "scrolled": true
   },
   "outputs": [
    {
     "data": {
      "text/plain": [
       "very_important_liq_need        4217\n",
       "somewhat_important_liq_need    1109\n",
       "not_important_liq_need          258\n",
       "Name: liquidity_needs, dtype: int64"
      ]
     },
     "execution_count": 35,
     "metadata": {},
     "output_type": "execute_result"
    }
   ],
   "source": [
    "data.liquidity_needs.value_counts()"
   ]
  },
  {
   "cell_type": "markdown",
   "id": "b2380626",
   "metadata": {},
   "source": [
    "liquidity_needs is also converted to one hot encoding"
   ]
  },
  {
   "cell_type": "code",
   "execution_count": 36,
   "id": "f073dbf0",
   "metadata": {},
   "outputs": [
    {
     "data": {
      "text/html": [
       "<div>\n",
       "<style scoped>\n",
       "    .dataframe tbody tr th:only-of-type {\n",
       "        vertical-align: middle;\n",
       "    }\n",
       "\n",
       "    .dataframe tbody tr th {\n",
       "        vertical-align: top;\n",
       "    }\n",
       "\n",
       "    .dataframe thead th {\n",
       "        text-align: right;\n",
       "    }\n",
       "</style>\n",
       "<table border=\"1\" class=\"dataframe\">\n",
       "  <thead>\n",
       "    <tr style=\"text-align: right;\">\n",
       "      <th></th>\n",
       "      <th>0</th>\n",
       "      <th>1</th>\n",
       "      <th>2</th>\n",
       "    </tr>\n",
       "  </thead>\n",
       "  <tbody>\n",
       "    <tr>\n",
       "      <th>platform</th>\n",
       "      <td>Android</td>\n",
       "      <td>Android</td>\n",
       "      <td>iOS</td>\n",
       "    </tr>\n",
       "    <tr>\n",
       "      <th>time_spent</th>\n",
       "      <td>33.129417</td>\n",
       "      <td>16.573517</td>\n",
       "      <td>10.008367</td>\n",
       "    </tr>\n",
       "    <tr>\n",
       "      <th>instrument_type_first_traded</th>\n",
       "      <td>stock</td>\n",
       "      <td>stock</td>\n",
       "      <td>stock</td>\n",
       "    </tr>\n",
       "    <tr>\n",
       "      <th>first_deposit_amount</th>\n",
       "      <td>40.0</td>\n",
       "      <td>200.0</td>\n",
       "      <td>25.0</td>\n",
       "    </tr>\n",
       "    <tr>\n",
       "      <th>time_horizon</th>\n",
       "      <td>med_time_horizon</td>\n",
       "      <td>short_time_horizon</td>\n",
       "      <td>long_time_horizon</td>\n",
       "    </tr>\n",
       "    <tr>\n",
       "      <th>user_id</th>\n",
       "      <td>895044c23edc821881e87da749c01034</td>\n",
       "      <td>458b1d95441ced242949deefe8e4b638</td>\n",
       "      <td>c7936f653d293479e034865db9bb932f</td>\n",
       "    </tr>\n",
       "    <tr>\n",
       "      <th>churn</th>\n",
       "      <td>0</td>\n",
       "      <td>0</td>\n",
       "      <td>0</td>\n",
       "    </tr>\n",
       "    <tr>\n",
       "      <th>low_risk_tolerance</th>\n",
       "      <td>0</td>\n",
       "      <td>0</td>\n",
       "      <td>0</td>\n",
       "    </tr>\n",
       "    <tr>\n",
       "      <th>med_risk_tolerance</th>\n",
       "      <td>0</td>\n",
       "      <td>1</td>\n",
       "      <td>1</td>\n",
       "    </tr>\n",
       "    <tr>\n",
       "      <th>extensive_investment_exp</th>\n",
       "      <td>0</td>\n",
       "      <td>0</td>\n",
       "      <td>0</td>\n",
       "    </tr>\n",
       "    <tr>\n",
       "      <th>good_investment_exp</th>\n",
       "      <td>0</td>\n",
       "      <td>0</td>\n",
       "      <td>0</td>\n",
       "    </tr>\n",
       "    <tr>\n",
       "      <th>no_investment_exp</th>\n",
       "      <td>0</td>\n",
       "      <td>0</td>\n",
       "      <td>0</td>\n",
       "    </tr>\n",
       "    <tr>\n",
       "      <th>not_important_liq_need</th>\n",
       "      <td>0</td>\n",
       "      <td>0</td>\n",
       "      <td>0</td>\n",
       "    </tr>\n",
       "    <tr>\n",
       "      <th>somewhat_important_liq_need</th>\n",
       "      <td>0</td>\n",
       "      <td>0</td>\n",
       "      <td>0</td>\n",
       "    </tr>\n",
       "  </tbody>\n",
       "</table>\n",
       "</div>"
      ],
      "text/plain": [
       "                                                             0  \\\n",
       "platform                                               Android   \n",
       "time_spent                                           33.129417   \n",
       "instrument_type_first_traded                             stock   \n",
       "first_deposit_amount                                      40.0   \n",
       "time_horizon                                  med_time_horizon   \n",
       "user_id                       895044c23edc821881e87da749c01034   \n",
       "churn                                                        0   \n",
       "low_risk_tolerance                                           0   \n",
       "med_risk_tolerance                                           0   \n",
       "extensive_investment_exp                                     0   \n",
       "good_investment_exp                                          0   \n",
       "no_investment_exp                                            0   \n",
       "not_important_liq_need                                       0   \n",
       "somewhat_important_liq_need                                  0   \n",
       "\n",
       "                                                             1  \\\n",
       "platform                                               Android   \n",
       "time_spent                                           16.573517   \n",
       "instrument_type_first_traded                             stock   \n",
       "first_deposit_amount                                     200.0   \n",
       "time_horizon                                short_time_horizon   \n",
       "user_id                       458b1d95441ced242949deefe8e4b638   \n",
       "churn                                                        0   \n",
       "low_risk_tolerance                                           0   \n",
       "med_risk_tolerance                                           1   \n",
       "extensive_investment_exp                                     0   \n",
       "good_investment_exp                                          0   \n",
       "no_investment_exp                                            0   \n",
       "not_important_liq_need                                       0   \n",
       "somewhat_important_liq_need                                  0   \n",
       "\n",
       "                                                             2  \n",
       "platform                                                   iOS  \n",
       "time_spent                                           10.008367  \n",
       "instrument_type_first_traded                             stock  \n",
       "first_deposit_amount                                      25.0  \n",
       "time_horizon                                 long_time_horizon  \n",
       "user_id                       c7936f653d293479e034865db9bb932f  \n",
       "churn                                                        0  \n",
       "low_risk_tolerance                                           0  \n",
       "med_risk_tolerance                                           1  \n",
       "extensive_investment_exp                                     0  \n",
       "good_investment_exp                                          0  \n",
       "no_investment_exp                                            0  \n",
       "not_important_liq_need                                       0  \n",
       "somewhat_important_liq_need                                  0  "
      ]
     },
     "execution_count": 36,
     "metadata": {},
     "output_type": "execute_result"
    }
   ],
   "source": [
    "liquidity_needs_one_hot = pd.get_dummies(data.liquidity_needs)\n",
    "data = data.join(liquidity_needs_one_hot)\n",
    "data = data.drop(['liquidity_needs', 'very_important_liq_need'],axis = 1)\n",
    "data.head(3).T"
   ]
  },
  {
   "cell_type": "markdown",
   "id": "b5f9a3b7",
   "metadata": {},
   "source": [
    "#### platform"
   ]
  },
  {
   "cell_type": "code",
   "execution_count": 37,
   "id": "a84ab5d5",
   "metadata": {},
   "outputs": [
    {
     "data": {
      "text/plain": [
       "iOS        3550\n",
       "Android    1529\n",
       "both        505\n",
       "Name: platform, dtype: int64"
      ]
     },
     "execution_count": 37,
     "metadata": {},
     "output_type": "execute_result"
    }
   ],
   "source": [
    "data.platform.value_counts()"
   ]
  },
  {
   "cell_type": "code",
   "execution_count": 38,
   "id": "bddb1c71",
   "metadata": {},
   "outputs": [
    {
     "data": {
      "text/html": [
       "<div>\n",
       "<style scoped>\n",
       "    .dataframe tbody tr th:only-of-type {\n",
       "        vertical-align: middle;\n",
       "    }\n",
       "\n",
       "    .dataframe tbody tr th {\n",
       "        vertical-align: top;\n",
       "    }\n",
       "\n",
       "    .dataframe thead th {\n",
       "        text-align: right;\n",
       "    }\n",
       "</style>\n",
       "<table border=\"1\" class=\"dataframe\">\n",
       "  <thead>\n",
       "    <tr style=\"text-align: right;\">\n",
       "      <th></th>\n",
       "      <th>0</th>\n",
       "      <th>1</th>\n",
       "      <th>2</th>\n",
       "    </tr>\n",
       "  </thead>\n",
       "  <tbody>\n",
       "    <tr>\n",
       "      <th>time_spent</th>\n",
       "      <td>33.129417</td>\n",
       "      <td>16.573517</td>\n",
       "      <td>10.008367</td>\n",
       "    </tr>\n",
       "    <tr>\n",
       "      <th>instrument_type_first_traded</th>\n",
       "      <td>stock</td>\n",
       "      <td>stock</td>\n",
       "      <td>stock</td>\n",
       "    </tr>\n",
       "    <tr>\n",
       "      <th>first_deposit_amount</th>\n",
       "      <td>40.0</td>\n",
       "      <td>200.0</td>\n",
       "      <td>25.0</td>\n",
       "    </tr>\n",
       "    <tr>\n",
       "      <th>time_horizon</th>\n",
       "      <td>med_time_horizon</td>\n",
       "      <td>short_time_horizon</td>\n",
       "      <td>long_time_horizon</td>\n",
       "    </tr>\n",
       "    <tr>\n",
       "      <th>user_id</th>\n",
       "      <td>895044c23edc821881e87da749c01034</td>\n",
       "      <td>458b1d95441ced242949deefe8e4b638</td>\n",
       "      <td>c7936f653d293479e034865db9bb932f</td>\n",
       "    </tr>\n",
       "    <tr>\n",
       "      <th>churn</th>\n",
       "      <td>0</td>\n",
       "      <td>0</td>\n",
       "      <td>0</td>\n",
       "    </tr>\n",
       "    <tr>\n",
       "      <th>low_risk_tolerance</th>\n",
       "      <td>0</td>\n",
       "      <td>0</td>\n",
       "      <td>0</td>\n",
       "    </tr>\n",
       "    <tr>\n",
       "      <th>med_risk_tolerance</th>\n",
       "      <td>0</td>\n",
       "      <td>1</td>\n",
       "      <td>1</td>\n",
       "    </tr>\n",
       "    <tr>\n",
       "      <th>extensive_investment_exp</th>\n",
       "      <td>0</td>\n",
       "      <td>0</td>\n",
       "      <td>0</td>\n",
       "    </tr>\n",
       "    <tr>\n",
       "      <th>good_investment_exp</th>\n",
       "      <td>0</td>\n",
       "      <td>0</td>\n",
       "      <td>0</td>\n",
       "    </tr>\n",
       "    <tr>\n",
       "      <th>no_investment_exp</th>\n",
       "      <td>0</td>\n",
       "      <td>0</td>\n",
       "      <td>0</td>\n",
       "    </tr>\n",
       "    <tr>\n",
       "      <th>not_important_liq_need</th>\n",
       "      <td>0</td>\n",
       "      <td>0</td>\n",
       "      <td>0</td>\n",
       "    </tr>\n",
       "    <tr>\n",
       "      <th>somewhat_important_liq_need</th>\n",
       "      <td>0</td>\n",
       "      <td>0</td>\n",
       "      <td>0</td>\n",
       "    </tr>\n",
       "    <tr>\n",
       "      <th>Android</th>\n",
       "      <td>1</td>\n",
       "      <td>1</td>\n",
       "      <td>0</td>\n",
       "    </tr>\n",
       "    <tr>\n",
       "      <th>iOS</th>\n",
       "      <td>0</td>\n",
       "      <td>0</td>\n",
       "      <td>1</td>\n",
       "    </tr>\n",
       "  </tbody>\n",
       "</table>\n",
       "</div>"
      ],
      "text/plain": [
       "                                                             0  \\\n",
       "time_spent                                           33.129417   \n",
       "instrument_type_first_traded                             stock   \n",
       "first_deposit_amount                                      40.0   \n",
       "time_horizon                                  med_time_horizon   \n",
       "user_id                       895044c23edc821881e87da749c01034   \n",
       "churn                                                        0   \n",
       "low_risk_tolerance                                           0   \n",
       "med_risk_tolerance                                           0   \n",
       "extensive_investment_exp                                     0   \n",
       "good_investment_exp                                          0   \n",
       "no_investment_exp                                            0   \n",
       "not_important_liq_need                                       0   \n",
       "somewhat_important_liq_need                                  0   \n",
       "Android                                                      1   \n",
       "iOS                                                          0   \n",
       "\n",
       "                                                             1  \\\n",
       "time_spent                                           16.573517   \n",
       "instrument_type_first_traded                             stock   \n",
       "first_deposit_amount                                     200.0   \n",
       "time_horizon                                short_time_horizon   \n",
       "user_id                       458b1d95441ced242949deefe8e4b638   \n",
       "churn                                                        0   \n",
       "low_risk_tolerance                                           0   \n",
       "med_risk_tolerance                                           1   \n",
       "extensive_investment_exp                                     0   \n",
       "good_investment_exp                                          0   \n",
       "no_investment_exp                                            0   \n",
       "not_important_liq_need                                       0   \n",
       "somewhat_important_liq_need                                  0   \n",
       "Android                                                      1   \n",
       "iOS                                                          0   \n",
       "\n",
       "                                                             2  \n",
       "time_spent                                           10.008367  \n",
       "instrument_type_first_traded                             stock  \n",
       "first_deposit_amount                                      25.0  \n",
       "time_horizon                                 long_time_horizon  \n",
       "user_id                       c7936f653d293479e034865db9bb932f  \n",
       "churn                                                        0  \n",
       "low_risk_tolerance                                           0  \n",
       "med_risk_tolerance                                           1  \n",
       "extensive_investment_exp                                     0  \n",
       "good_investment_exp                                          0  \n",
       "no_investment_exp                                            0  \n",
       "not_important_liq_need                                       0  \n",
       "somewhat_important_liq_need                                  0  \n",
       "Android                                                      0  \n",
       "iOS                                                          1  "
      ]
     },
     "execution_count": 38,
     "metadata": {},
     "output_type": "execute_result"
    }
   ],
   "source": [
    "platform_one_hot = pd.get_dummies(data.platform)\n",
    "data = data.join(platform_one_hot)\n",
    "data = data.drop(['platform', 'both'],axis = 1)\n",
    "data[['iOS', 'Android']] = [[1, 1] if iOS==Android else [iOS, Android] for iOS, Android in data[['iOS', 'Android']].to_numpy()]\n",
    "data.head(3).T"
   ]
  },
  {
   "cell_type": "markdown",
   "id": "0971faa4",
   "metadata": {},
   "source": [
    "#### instrument_type_first_traded"
   ]
  },
  {
   "cell_type": "code",
   "execution_count": 39,
   "id": "ec98d89a",
   "metadata": {},
   "outputs": [
    {
     "data": {
      "text/plain": [
       "stock       4827\n",
       "etp          383\n",
       "adr          197\n",
       "mlp           55\n",
       "reit          55\n",
       "cef           20\n",
       "wrt           16\n",
       "0             13\n",
       "rlt            9\n",
       "lp             8\n",
       "tracking       1\n",
       "Name: instrument_type_first_traded, dtype: int64"
      ]
     },
     "execution_count": 39,
     "metadata": {},
     "output_type": "execute_result"
    }
   ],
   "source": [
    "data.instrument_type_first_traded.value_counts()"
   ]
  },
  {
   "cell_type": "markdown",
   "id": "b87e84e9",
   "metadata": {},
   "source": [
    "Since instrument_type_first_traded is mostly stock and the frequency for other values is lower. We shall convert **instrument_type_first_traded** to\n",
    "* stock\n",
    "* non-stock"
   ]
  },
  {
   "cell_type": "code",
   "execution_count": 40,
   "id": "6647625b",
   "metadata": {},
   "outputs": [
    {
     "data": {
      "text/plain": [
       "stock        4827\n",
       "non-stock     757\n",
       "Name: instrument_type_first_traded, dtype: int64"
      ]
     },
     "execution_count": 40,
     "metadata": {},
     "output_type": "execute_result"
    }
   ],
   "source": [
    "data.loc[~(data.instrument_type_first_traded == \"stock\"), \"instrument_type_first_traded\"] = \"non-stock\"\n",
    "data.instrument_type_first_traded.value_counts()"
   ]
  },
  {
   "cell_type": "code",
   "execution_count": 41,
   "id": "c35885c1",
   "metadata": {},
   "outputs": [
    {
     "data": {
      "text/html": [
       "<div>\n",
       "<style scoped>\n",
       "    .dataframe tbody tr th:only-of-type {\n",
       "        vertical-align: middle;\n",
       "    }\n",
       "\n",
       "    .dataframe tbody tr th {\n",
       "        vertical-align: top;\n",
       "    }\n",
       "\n",
       "    .dataframe thead th {\n",
       "        text-align: right;\n",
       "    }\n",
       "</style>\n",
       "<table border=\"1\" class=\"dataframe\">\n",
       "  <thead>\n",
       "    <tr style=\"text-align: right;\">\n",
       "      <th></th>\n",
       "      <th>0</th>\n",
       "      <th>1</th>\n",
       "      <th>2</th>\n",
       "    </tr>\n",
       "  </thead>\n",
       "  <tbody>\n",
       "    <tr>\n",
       "      <th>time_spent</th>\n",
       "      <td>33.129417</td>\n",
       "      <td>16.573517</td>\n",
       "      <td>10.008367</td>\n",
       "    </tr>\n",
       "    <tr>\n",
       "      <th>instrument_type_first_traded</th>\n",
       "      <td>1</td>\n",
       "      <td>1</td>\n",
       "      <td>1</td>\n",
       "    </tr>\n",
       "    <tr>\n",
       "      <th>first_deposit_amount</th>\n",
       "      <td>40.0</td>\n",
       "      <td>200.0</td>\n",
       "      <td>25.0</td>\n",
       "    </tr>\n",
       "    <tr>\n",
       "      <th>time_horizon</th>\n",
       "      <td>med_time_horizon</td>\n",
       "      <td>short_time_horizon</td>\n",
       "      <td>long_time_horizon</td>\n",
       "    </tr>\n",
       "    <tr>\n",
       "      <th>user_id</th>\n",
       "      <td>895044c23edc821881e87da749c01034</td>\n",
       "      <td>458b1d95441ced242949deefe8e4b638</td>\n",
       "      <td>c7936f653d293479e034865db9bb932f</td>\n",
       "    </tr>\n",
       "    <tr>\n",
       "      <th>churn</th>\n",
       "      <td>0</td>\n",
       "      <td>0</td>\n",
       "      <td>0</td>\n",
       "    </tr>\n",
       "    <tr>\n",
       "      <th>low_risk_tolerance</th>\n",
       "      <td>0</td>\n",
       "      <td>0</td>\n",
       "      <td>0</td>\n",
       "    </tr>\n",
       "    <tr>\n",
       "      <th>med_risk_tolerance</th>\n",
       "      <td>0</td>\n",
       "      <td>1</td>\n",
       "      <td>1</td>\n",
       "    </tr>\n",
       "    <tr>\n",
       "      <th>extensive_investment_exp</th>\n",
       "      <td>0</td>\n",
       "      <td>0</td>\n",
       "      <td>0</td>\n",
       "    </tr>\n",
       "    <tr>\n",
       "      <th>good_investment_exp</th>\n",
       "      <td>0</td>\n",
       "      <td>0</td>\n",
       "      <td>0</td>\n",
       "    </tr>\n",
       "    <tr>\n",
       "      <th>no_investment_exp</th>\n",
       "      <td>0</td>\n",
       "      <td>0</td>\n",
       "      <td>0</td>\n",
       "    </tr>\n",
       "    <tr>\n",
       "      <th>not_important_liq_need</th>\n",
       "      <td>0</td>\n",
       "      <td>0</td>\n",
       "      <td>0</td>\n",
       "    </tr>\n",
       "    <tr>\n",
       "      <th>somewhat_important_liq_need</th>\n",
       "      <td>0</td>\n",
       "      <td>0</td>\n",
       "      <td>0</td>\n",
       "    </tr>\n",
       "    <tr>\n",
       "      <th>Android</th>\n",
       "      <td>1</td>\n",
       "      <td>1</td>\n",
       "      <td>0</td>\n",
       "    </tr>\n",
       "    <tr>\n",
       "      <th>iOS</th>\n",
       "      <td>0</td>\n",
       "      <td>0</td>\n",
       "      <td>1</td>\n",
       "    </tr>\n",
       "  </tbody>\n",
       "</table>\n",
       "</div>"
      ],
      "text/plain": [
       "                                                             0  \\\n",
       "time_spent                                           33.129417   \n",
       "instrument_type_first_traded                                 1   \n",
       "first_deposit_amount                                      40.0   \n",
       "time_horizon                                  med_time_horizon   \n",
       "user_id                       895044c23edc821881e87da749c01034   \n",
       "churn                                                        0   \n",
       "low_risk_tolerance                                           0   \n",
       "med_risk_tolerance                                           0   \n",
       "extensive_investment_exp                                     0   \n",
       "good_investment_exp                                          0   \n",
       "no_investment_exp                                            0   \n",
       "not_important_liq_need                                       0   \n",
       "somewhat_important_liq_need                                  0   \n",
       "Android                                                      1   \n",
       "iOS                                                          0   \n",
       "\n",
       "                                                             1  \\\n",
       "time_spent                                           16.573517   \n",
       "instrument_type_first_traded                                 1   \n",
       "first_deposit_amount                                     200.0   \n",
       "time_horizon                                short_time_horizon   \n",
       "user_id                       458b1d95441ced242949deefe8e4b638   \n",
       "churn                                                        0   \n",
       "low_risk_tolerance                                           0   \n",
       "med_risk_tolerance                                           1   \n",
       "extensive_investment_exp                                     0   \n",
       "good_investment_exp                                          0   \n",
       "no_investment_exp                                            0   \n",
       "not_important_liq_need                                       0   \n",
       "somewhat_important_liq_need                                  0   \n",
       "Android                                                      1   \n",
       "iOS                                                          0   \n",
       "\n",
       "                                                             2  \n",
       "time_spent                                           10.008367  \n",
       "instrument_type_first_traded                                 1  \n",
       "first_deposit_amount                                      25.0  \n",
       "time_horizon                                 long_time_horizon  \n",
       "user_id                       c7936f653d293479e034865db9bb932f  \n",
       "churn                                                        0  \n",
       "low_risk_tolerance                                           0  \n",
       "med_risk_tolerance                                           1  \n",
       "extensive_investment_exp                                     0  \n",
       "good_investment_exp                                          0  \n",
       "no_investment_exp                                            0  \n",
       "not_important_liq_need                                       0  \n",
       "somewhat_important_liq_need                                  0  \n",
       "Android                                                      0  \n",
       "iOS                                                          1  "
      ]
     },
     "execution_count": 41,
     "metadata": {},
     "output_type": "execute_result"
    }
   ],
   "source": [
    "instrument_type_first_traded_dict = {\n",
    "    \"stock\": 1,\n",
    "    \"non-stock\": 0\n",
    "}\n",
    "data = data.replace({\"instrument_type_first_traded\": instrument_type_first_traded_dict})\n",
    "data.head(3).T"
   ]
  },
  {
   "cell_type": "markdown",
   "id": "342efb4c",
   "metadata": {},
   "source": [
    "#### time_horizon"
   ]
  },
  {
   "cell_type": "code",
   "execution_count": 42,
   "id": "1b1462ad",
   "metadata": {},
   "outputs": [
    {
     "data": {
      "text/plain": [
       "short_time_horizon    2833\n",
       "long_time_horizon     1833\n",
       "med_time_horizon       918\n",
       "Name: time_horizon, dtype: int64"
      ]
     },
     "execution_count": 42,
     "metadata": {},
     "output_type": "execute_result"
    }
   ],
   "source": [
    "data.time_horizon.value_counts()"
   ]
  },
  {
   "cell_type": "code",
   "execution_count": 43,
   "id": "30c33ac3",
   "metadata": {},
   "outputs": [
    {
     "data": {
      "text/html": [
       "<div>\n",
       "<style scoped>\n",
       "    .dataframe tbody tr th:only-of-type {\n",
       "        vertical-align: middle;\n",
       "    }\n",
       "\n",
       "    .dataframe tbody tr th {\n",
       "        vertical-align: top;\n",
       "    }\n",
       "\n",
       "    .dataframe thead th {\n",
       "        text-align: right;\n",
       "    }\n",
       "</style>\n",
       "<table border=\"1\" class=\"dataframe\">\n",
       "  <thead>\n",
       "    <tr style=\"text-align: right;\">\n",
       "      <th></th>\n",
       "      <th>0</th>\n",
       "      <th>1</th>\n",
       "      <th>2</th>\n",
       "    </tr>\n",
       "  </thead>\n",
       "  <tbody>\n",
       "    <tr>\n",
       "      <th>time_spent</th>\n",
       "      <td>33.129417</td>\n",
       "      <td>16.573517</td>\n",
       "      <td>10.008367</td>\n",
       "    </tr>\n",
       "    <tr>\n",
       "      <th>instrument_type_first_traded</th>\n",
       "      <td>1</td>\n",
       "      <td>1</td>\n",
       "      <td>1</td>\n",
       "    </tr>\n",
       "    <tr>\n",
       "      <th>first_deposit_amount</th>\n",
       "      <td>40.0</td>\n",
       "      <td>200.0</td>\n",
       "      <td>25.0</td>\n",
       "    </tr>\n",
       "    <tr>\n",
       "      <th>user_id</th>\n",
       "      <td>895044c23edc821881e87da749c01034</td>\n",
       "      <td>458b1d95441ced242949deefe8e4b638</td>\n",
       "      <td>c7936f653d293479e034865db9bb932f</td>\n",
       "    </tr>\n",
       "    <tr>\n",
       "      <th>churn</th>\n",
       "      <td>0</td>\n",
       "      <td>0</td>\n",
       "      <td>0</td>\n",
       "    </tr>\n",
       "    <tr>\n",
       "      <th>low_risk_tolerance</th>\n",
       "      <td>0</td>\n",
       "      <td>0</td>\n",
       "      <td>0</td>\n",
       "    </tr>\n",
       "    <tr>\n",
       "      <th>med_risk_tolerance</th>\n",
       "      <td>0</td>\n",
       "      <td>1</td>\n",
       "      <td>1</td>\n",
       "    </tr>\n",
       "    <tr>\n",
       "      <th>extensive_investment_exp</th>\n",
       "      <td>0</td>\n",
       "      <td>0</td>\n",
       "      <td>0</td>\n",
       "    </tr>\n",
       "    <tr>\n",
       "      <th>good_investment_exp</th>\n",
       "      <td>0</td>\n",
       "      <td>0</td>\n",
       "      <td>0</td>\n",
       "    </tr>\n",
       "    <tr>\n",
       "      <th>no_investment_exp</th>\n",
       "      <td>0</td>\n",
       "      <td>0</td>\n",
       "      <td>0</td>\n",
       "    </tr>\n",
       "    <tr>\n",
       "      <th>not_important_liq_need</th>\n",
       "      <td>0</td>\n",
       "      <td>0</td>\n",
       "      <td>0</td>\n",
       "    </tr>\n",
       "    <tr>\n",
       "      <th>somewhat_important_liq_need</th>\n",
       "      <td>0</td>\n",
       "      <td>0</td>\n",
       "      <td>0</td>\n",
       "    </tr>\n",
       "    <tr>\n",
       "      <th>Android</th>\n",
       "      <td>1</td>\n",
       "      <td>1</td>\n",
       "      <td>0</td>\n",
       "    </tr>\n",
       "    <tr>\n",
       "      <th>iOS</th>\n",
       "      <td>0</td>\n",
       "      <td>0</td>\n",
       "      <td>1</td>\n",
       "    </tr>\n",
       "    <tr>\n",
       "      <th>long_time_horizon</th>\n",
       "      <td>0</td>\n",
       "      <td>0</td>\n",
       "      <td>1</td>\n",
       "    </tr>\n",
       "    <tr>\n",
       "      <th>med_time_horizon</th>\n",
       "      <td>1</td>\n",
       "      <td>0</td>\n",
       "      <td>0</td>\n",
       "    </tr>\n",
       "  </tbody>\n",
       "</table>\n",
       "</div>"
      ],
      "text/plain": [
       "                                                             0  \\\n",
       "time_spent                                           33.129417   \n",
       "instrument_type_first_traded                                 1   \n",
       "first_deposit_amount                                      40.0   \n",
       "user_id                       895044c23edc821881e87da749c01034   \n",
       "churn                                                        0   \n",
       "low_risk_tolerance                                           0   \n",
       "med_risk_tolerance                                           0   \n",
       "extensive_investment_exp                                     0   \n",
       "good_investment_exp                                          0   \n",
       "no_investment_exp                                            0   \n",
       "not_important_liq_need                                       0   \n",
       "somewhat_important_liq_need                                  0   \n",
       "Android                                                      1   \n",
       "iOS                                                          0   \n",
       "long_time_horizon                                            0   \n",
       "med_time_horizon                                             1   \n",
       "\n",
       "                                                             1  \\\n",
       "time_spent                                           16.573517   \n",
       "instrument_type_first_traded                                 1   \n",
       "first_deposit_amount                                     200.0   \n",
       "user_id                       458b1d95441ced242949deefe8e4b638   \n",
       "churn                                                        0   \n",
       "low_risk_tolerance                                           0   \n",
       "med_risk_tolerance                                           1   \n",
       "extensive_investment_exp                                     0   \n",
       "good_investment_exp                                          0   \n",
       "no_investment_exp                                            0   \n",
       "not_important_liq_need                                       0   \n",
       "somewhat_important_liq_need                                  0   \n",
       "Android                                                      1   \n",
       "iOS                                                          0   \n",
       "long_time_horizon                                            0   \n",
       "med_time_horizon                                             0   \n",
       "\n",
       "                                                             2  \n",
       "time_spent                                           10.008367  \n",
       "instrument_type_first_traded                                 1  \n",
       "first_deposit_amount                                      25.0  \n",
       "user_id                       c7936f653d293479e034865db9bb932f  \n",
       "churn                                                        0  \n",
       "low_risk_tolerance                                           0  \n",
       "med_risk_tolerance                                           1  \n",
       "extensive_investment_exp                                     0  \n",
       "good_investment_exp                                          0  \n",
       "no_investment_exp                                            0  \n",
       "not_important_liq_need                                       0  \n",
       "somewhat_important_liq_need                                  0  \n",
       "Android                                                      0  \n",
       "iOS                                                          1  \n",
       "long_time_horizon                                            1  \n",
       "med_time_horizon                                             0  "
      ]
     },
     "execution_count": 43,
     "metadata": {},
     "output_type": "execute_result"
    }
   ],
   "source": [
    "time_horizon_one_hot = pd.get_dummies(data.time_horizon)\n",
    "data = data.join(time_horizon_one_hot)\n",
    "data = data.drop(['time_horizon', 'short_time_horizon'],axis = 1)\n",
    "data.head(3).T"
   ]
  },
  {
   "cell_type": "markdown",
   "id": "334c9332",
   "metadata": {},
   "source": [
    "user_id will be removed from our list of predictor variable. Since, user_id is unique to each row and does not explain the variance in **churn**."
   ]
  },
  {
   "cell_type": "code",
   "execution_count": 44,
   "id": "f3c31ebc",
   "metadata": {},
   "outputs": [
    {
     "data": {
      "text/html": [
       "<div>\n",
       "<style scoped>\n",
       "    .dataframe tbody tr th:only-of-type {\n",
       "        vertical-align: middle;\n",
       "    }\n",
       "\n",
       "    .dataframe tbody tr th {\n",
       "        vertical-align: top;\n",
       "    }\n",
       "\n",
       "    .dataframe thead th {\n",
       "        text-align: right;\n",
       "    }\n",
       "</style>\n",
       "<table border=\"1\" class=\"dataframe\">\n",
       "  <thead>\n",
       "    <tr style=\"text-align: right;\">\n",
       "      <th></th>\n",
       "      <th>0</th>\n",
       "      <th>1</th>\n",
       "      <th>2</th>\n",
       "    </tr>\n",
       "  </thead>\n",
       "  <tbody>\n",
       "    <tr>\n",
       "      <th>time_spent</th>\n",
       "      <td>33.129417</td>\n",
       "      <td>16.573517</td>\n",
       "      <td>10.008367</td>\n",
       "    </tr>\n",
       "    <tr>\n",
       "      <th>instrument_type_first_traded</th>\n",
       "      <td>1.000000</td>\n",
       "      <td>1.000000</td>\n",
       "      <td>1.000000</td>\n",
       "    </tr>\n",
       "    <tr>\n",
       "      <th>first_deposit_amount</th>\n",
       "      <td>40.000000</td>\n",
       "      <td>200.000000</td>\n",
       "      <td>25.000000</td>\n",
       "    </tr>\n",
       "    <tr>\n",
       "      <th>churn</th>\n",
       "      <td>0.000000</td>\n",
       "      <td>0.000000</td>\n",
       "      <td>0.000000</td>\n",
       "    </tr>\n",
       "    <tr>\n",
       "      <th>low_risk_tolerance</th>\n",
       "      <td>0.000000</td>\n",
       "      <td>0.000000</td>\n",
       "      <td>0.000000</td>\n",
       "    </tr>\n",
       "    <tr>\n",
       "      <th>med_risk_tolerance</th>\n",
       "      <td>0.000000</td>\n",
       "      <td>1.000000</td>\n",
       "      <td>1.000000</td>\n",
       "    </tr>\n",
       "    <tr>\n",
       "      <th>extensive_investment_exp</th>\n",
       "      <td>0.000000</td>\n",
       "      <td>0.000000</td>\n",
       "      <td>0.000000</td>\n",
       "    </tr>\n",
       "    <tr>\n",
       "      <th>good_investment_exp</th>\n",
       "      <td>0.000000</td>\n",
       "      <td>0.000000</td>\n",
       "      <td>0.000000</td>\n",
       "    </tr>\n",
       "    <tr>\n",
       "      <th>no_investment_exp</th>\n",
       "      <td>0.000000</td>\n",
       "      <td>0.000000</td>\n",
       "      <td>0.000000</td>\n",
       "    </tr>\n",
       "    <tr>\n",
       "      <th>not_important_liq_need</th>\n",
       "      <td>0.000000</td>\n",
       "      <td>0.000000</td>\n",
       "      <td>0.000000</td>\n",
       "    </tr>\n",
       "    <tr>\n",
       "      <th>somewhat_important_liq_need</th>\n",
       "      <td>0.000000</td>\n",
       "      <td>0.000000</td>\n",
       "      <td>0.000000</td>\n",
       "    </tr>\n",
       "    <tr>\n",
       "      <th>Android</th>\n",
       "      <td>1.000000</td>\n",
       "      <td>1.000000</td>\n",
       "      <td>0.000000</td>\n",
       "    </tr>\n",
       "    <tr>\n",
       "      <th>iOS</th>\n",
       "      <td>0.000000</td>\n",
       "      <td>0.000000</td>\n",
       "      <td>1.000000</td>\n",
       "    </tr>\n",
       "    <tr>\n",
       "      <th>long_time_horizon</th>\n",
       "      <td>0.000000</td>\n",
       "      <td>0.000000</td>\n",
       "      <td>1.000000</td>\n",
       "    </tr>\n",
       "    <tr>\n",
       "      <th>med_time_horizon</th>\n",
       "      <td>1.000000</td>\n",
       "      <td>0.000000</td>\n",
       "      <td>0.000000</td>\n",
       "    </tr>\n",
       "  </tbody>\n",
       "</table>\n",
       "</div>"
      ],
      "text/plain": [
       "                                      0           1          2\n",
       "time_spent                    33.129417   16.573517  10.008367\n",
       "instrument_type_first_traded   1.000000    1.000000   1.000000\n",
       "first_deposit_amount          40.000000  200.000000  25.000000\n",
       "churn                          0.000000    0.000000   0.000000\n",
       "low_risk_tolerance             0.000000    0.000000   0.000000\n",
       "med_risk_tolerance             0.000000    1.000000   1.000000\n",
       "extensive_investment_exp       0.000000    0.000000   0.000000\n",
       "good_investment_exp            0.000000    0.000000   0.000000\n",
       "no_investment_exp              0.000000    0.000000   0.000000\n",
       "not_important_liq_need         0.000000    0.000000   0.000000\n",
       "somewhat_important_liq_need    0.000000    0.000000   0.000000\n",
       "Android                        1.000000    1.000000   0.000000\n",
       "iOS                            0.000000    0.000000   1.000000\n",
       "long_time_horizon              0.000000    0.000000   1.000000\n",
       "med_time_horizon               1.000000    0.000000   0.000000"
      ]
     },
     "execution_count": 44,
     "metadata": {},
     "output_type": "execute_result"
    }
   ],
   "source": [
    "data = data.drop(\"user_id\", axis=1)\n",
    "data.head(3).T"
   ]
  },
  {
   "cell_type": "code",
   "execution_count": 45,
   "id": "7857f286",
   "metadata": {
    "scrolled": true
   },
   "outputs": [
    {
     "data": {
      "text/html": [
       "<div>\n",
       "<style scoped>\n",
       "    .dataframe tbody tr th:only-of-type {\n",
       "        vertical-align: middle;\n",
       "    }\n",
       "\n",
       "    .dataframe tbody tr th {\n",
       "        vertical-align: top;\n",
       "    }\n",
       "\n",
       "    .dataframe thead th {\n",
       "        text-align: right;\n",
       "    }\n",
       "</style>\n",
       "<table border=\"1\" class=\"dataframe\">\n",
       "  <thead>\n",
       "    <tr style=\"text-align: right;\">\n",
       "      <th></th>\n",
       "      <th>0</th>\n",
       "      <th>1</th>\n",
       "      <th>2</th>\n",
       "    </tr>\n",
       "  </thead>\n",
       "  <tbody>\n",
       "    <tr>\n",
       "      <th>time_spent</th>\n",
       "      <td>33.129417</td>\n",
       "      <td>16.573517</td>\n",
       "      <td>10.008367</td>\n",
       "    </tr>\n",
       "    <tr>\n",
       "      <th>instrument_type_first_traded</th>\n",
       "      <td>1.000000</td>\n",
       "      <td>1.000000</td>\n",
       "      <td>1.000000</td>\n",
       "    </tr>\n",
       "    <tr>\n",
       "      <th>first_deposit_amount</th>\n",
       "      <td>40.000000</td>\n",
       "      <td>200.000000</td>\n",
       "      <td>25.000000</td>\n",
       "    </tr>\n",
       "    <tr>\n",
       "      <th>churn</th>\n",
       "      <td>0.000000</td>\n",
       "      <td>0.000000</td>\n",
       "      <td>0.000000</td>\n",
       "    </tr>\n",
       "    <tr>\n",
       "      <th>low_risk_tolerance</th>\n",
       "      <td>0.000000</td>\n",
       "      <td>0.000000</td>\n",
       "      <td>0.000000</td>\n",
       "    </tr>\n",
       "    <tr>\n",
       "      <th>med_risk_tolerance</th>\n",
       "      <td>0.000000</td>\n",
       "      <td>1.000000</td>\n",
       "      <td>1.000000</td>\n",
       "    </tr>\n",
       "    <tr>\n",
       "      <th>extensive_investment_exp</th>\n",
       "      <td>0.000000</td>\n",
       "      <td>0.000000</td>\n",
       "      <td>0.000000</td>\n",
       "    </tr>\n",
       "    <tr>\n",
       "      <th>good_investment_exp</th>\n",
       "      <td>0.000000</td>\n",
       "      <td>0.000000</td>\n",
       "      <td>0.000000</td>\n",
       "    </tr>\n",
       "    <tr>\n",
       "      <th>no_investment_exp</th>\n",
       "      <td>0.000000</td>\n",
       "      <td>0.000000</td>\n",
       "      <td>0.000000</td>\n",
       "    </tr>\n",
       "    <tr>\n",
       "      <th>not_important_liq_need</th>\n",
       "      <td>0.000000</td>\n",
       "      <td>0.000000</td>\n",
       "      <td>0.000000</td>\n",
       "    </tr>\n",
       "    <tr>\n",
       "      <th>somewhat_important_liq_need</th>\n",
       "      <td>0.000000</td>\n",
       "      <td>0.000000</td>\n",
       "      <td>0.000000</td>\n",
       "    </tr>\n",
       "    <tr>\n",
       "      <th>Android</th>\n",
       "      <td>1.000000</td>\n",
       "      <td>1.000000</td>\n",
       "      <td>0.000000</td>\n",
       "    </tr>\n",
       "    <tr>\n",
       "      <th>iOS</th>\n",
       "      <td>0.000000</td>\n",
       "      <td>0.000000</td>\n",
       "      <td>1.000000</td>\n",
       "    </tr>\n",
       "    <tr>\n",
       "      <th>long_time_horizon</th>\n",
       "      <td>0.000000</td>\n",
       "      <td>0.000000</td>\n",
       "      <td>1.000000</td>\n",
       "    </tr>\n",
       "    <tr>\n",
       "      <th>med_time_horizon</th>\n",
       "      <td>1.000000</td>\n",
       "      <td>0.000000</td>\n",
       "      <td>0.000000</td>\n",
       "    </tr>\n",
       "  </tbody>\n",
       "</table>\n",
       "</div>"
      ],
      "text/plain": [
       "                                      0           1          2\n",
       "time_spent                    33.129417   16.573517  10.008367\n",
       "instrument_type_first_traded   1.000000    1.000000   1.000000\n",
       "first_deposit_amount          40.000000  200.000000  25.000000\n",
       "churn                          0.000000    0.000000   0.000000\n",
       "low_risk_tolerance             0.000000    0.000000   0.000000\n",
       "med_risk_tolerance             0.000000    1.000000   1.000000\n",
       "extensive_investment_exp       0.000000    0.000000   0.000000\n",
       "good_investment_exp            0.000000    0.000000   0.000000\n",
       "no_investment_exp              0.000000    0.000000   0.000000\n",
       "not_important_liq_need         0.000000    0.000000   0.000000\n",
       "somewhat_important_liq_need    0.000000    0.000000   0.000000\n",
       "Android                        1.000000    1.000000   0.000000\n",
       "iOS                            0.000000    0.000000   1.000000\n",
       "long_time_horizon              0.000000    0.000000   1.000000\n",
       "med_time_horizon               1.000000    0.000000   0.000000"
      ]
     },
     "execution_count": 45,
     "metadata": {},
     "output_type": "execute_result"
    }
   ],
   "source": [
    "data.head(3).T"
   ]
  },
  {
   "cell_type": "markdown",
   "id": "c84bf200",
   "metadata": {},
   "source": [
    "## Check Outliers - (Disabled - Outlier data points were important for classification)"
   ]
  },
  {
   "cell_type": "markdown",
   "id": "f968824d",
   "metadata": {},
   "source": [
    "sns.scatterplot(x=\"first_deposit_amount\", y=\"time_spent\", data=data)"
   ]
  },
  {
   "cell_type": "markdown",
   "id": "f2482e50",
   "metadata": {},
   "source": [
    "#### Time Spent - using Inter Quartile Range"
   ]
  },
  {
   "cell_type": "markdown",
   "id": "8d598e7b",
   "metadata": {},
   "source": [
    "from pprint import pprint\n",
    "count, mean, std, mini, q1, q2, q3, maxi = data.time_spent.describe()\n",
    "iqr = q3 - q1\n",
    "lower_lim = q1 - 2.5*iqr\n",
    "upper_lim = q3 + 2.5*iqr\n",
    "pprint(dict(zip(\"count, mean, std, mini, q1, q2, q3, maxi, iqr, lower, upper\".split(\", \"), [count, mean, std, mini, q1, q2, q3, maxi, iqr, lower_lim, upper_lim])))"
   ]
  },
  {
   "cell_type": "markdown",
   "id": "ee3a754f",
   "metadata": {
    "scrolled": true
   },
   "source": [
    "data = data[(data.time_spent > lower_lim) & (data.time_spent < upper_lim)].sort_values(by=\"time_spent\")"
   ]
  },
  {
   "cell_type": "markdown",
   "id": "5418c02e",
   "metadata": {},
   "source": [
    "data.head(3).T"
   ]
  },
  {
   "cell_type": "markdown",
   "id": "f3366f74",
   "metadata": {},
   "source": [
    "#### First Deposity Amount using Inter - Quartile Range"
   ]
  },
  {
   "cell_type": "markdown",
   "id": "f0602d11",
   "metadata": {},
   "source": [
    "count, mean, std, mini, q1, q2, q3, maxi = data.first_deposit_amount.describe()\n",
    "iqr = q3 - q1\n",
    "lower_lim = q1 - 2.5*iqr\n",
    "upper_lim = q3 + 2.5*iqr\n",
    "pprint(dict(zip(\"count, mean, std, mini, q1, q2, q3, maxi, iqr, lower, upper\".split(\", \"), [count, mean, std, mini, q1, q2, q3, maxi, iqr, lower_lim, upper_lim])))"
   ]
  },
  {
   "cell_type": "markdown",
   "id": "5c2f11c3",
   "metadata": {},
   "source": [
    "data = data[(data.first_deposit_amount > lower_lim) & (data.first_deposit_amount < upper_lim)].sort_values(by=\"first_deposit_amount\")\n",
    "data.head(5).T"
   ]
  },
  {
   "cell_type": "markdown",
   "id": "3f4ae396",
   "metadata": {},
   "source": [
    "sns.scatterplot(x=\"first_deposit_amount\", y=\"time_spent\", data=data)"
   ]
  },
  {
   "cell_type": "markdown",
   "id": "ef9239ec",
   "metadata": {},
   "source": [
    "## Data Normalization"
   ]
  },
  {
   "cell_type": "code",
   "execution_count": 46,
   "id": "731726a5",
   "metadata": {},
   "outputs": [],
   "source": [
    "from sklearn.preprocessing import MinMaxScaler\n",
    "scaler = MinMaxScaler()\n",
    "scaled_data = scaler.fit_transform(data[['first_deposit_amount', 'time_spent']])"
   ]
  },
  {
   "cell_type": "code",
   "execution_count": 47,
   "id": "365bc219",
   "metadata": {},
   "outputs": [],
   "source": [
    "data[['first_deposit_amount', 'time_spent']] = scaled_data"
   ]
  },
  {
   "cell_type": "code",
   "execution_count": 48,
   "id": "54f9c259",
   "metadata": {},
   "outputs": [
    {
     "data": {
      "text/plain": [
       "<AxesSubplot:xlabel='first_deposit_amount', ylabel='time_spent'>"
      ]
     },
     "execution_count": 48,
     "metadata": {},
     "output_type": "execute_result"
    },
    {
     "data": {
      "image/png": "[encoded data removed]",
      "text/plain": [
       "<Figure size 360x360 with 1 Axes>"
      ]
     },
     "metadata": {},
     "output_type": "display_data"
    }
   ],
   "source": [
    "sns.scatterplot(x=\"first_deposit_amount\", y=\"time_spent\", data=data)"
   ]
  },
  {
   "cell_type": "code",
   "execution_count": 49,
   "id": "9ee5eb87",
   "metadata": {},
   "outputs": [
    {
     "data": {
      "text/html": [
       "<div>\n",
       "<style scoped>\n",
       "    .dataframe tbody tr th:only-of-type {\n",
       "        vertical-align: middle;\n",
       "    }\n",
       "\n",
       "    .dataframe tbody tr th {\n",
       "        vertical-align: top;\n",
       "    }\n",
       "\n",
       "    .dataframe thead th {\n",
       "        text-align: right;\n",
       "    }\n",
       "</style>\n",
       "<table border=\"1\" class=\"dataframe\">\n",
       "  <thead>\n",
       "    <tr style=\"text-align: right;\">\n",
       "      <th></th>\n",
       "      <th>0</th>\n",
       "      <th>1</th>\n",
       "      <th>2</th>\n",
       "      <th>3</th>\n",
       "      <th>4</th>\n",
       "    </tr>\n",
       "  </thead>\n",
       "  <tbody>\n",
       "    <tr>\n",
       "      <th>time_spent</th>\n",
       "      <td>0.00377</td>\n",
       "      <td>0.001886</td>\n",
       "      <td>0.001139</td>\n",
       "      <td>0.000117</td>\n",
       "      <td>0.000932</td>\n",
       "    </tr>\n",
       "    <tr>\n",
       "      <th>instrument_type_first_traded</th>\n",
       "      <td>1.00000</td>\n",
       "      <td>1.000000</td>\n",
       "      <td>1.000000</td>\n",
       "      <td>1.000000</td>\n",
       "      <td>1.000000</td>\n",
       "    </tr>\n",
       "    <tr>\n",
       "      <th>first_deposit_amount</th>\n",
       "      <td>0.00080</td>\n",
       "      <td>0.004000</td>\n",
       "      <td>0.000500</td>\n",
       "      <td>0.002000</td>\n",
       "      <td>0.000400</td>\n",
       "    </tr>\n",
       "    <tr>\n",
       "      <th>churn</th>\n",
       "      <td>0.00000</td>\n",
       "      <td>0.000000</td>\n",
       "      <td>0.000000</td>\n",
       "      <td>0.000000</td>\n",
       "      <td>0.000000</td>\n",
       "    </tr>\n",
       "    <tr>\n",
       "      <th>low_risk_tolerance</th>\n",
       "      <td>0.00000</td>\n",
       "      <td>0.000000</td>\n",
       "      <td>0.000000</td>\n",
       "      <td>0.000000</td>\n",
       "      <td>0.000000</td>\n",
       "    </tr>\n",
       "    <tr>\n",
       "      <th>med_risk_tolerance</th>\n",
       "      <td>0.00000</td>\n",
       "      <td>1.000000</td>\n",
       "      <td>1.000000</td>\n",
       "      <td>1.000000</td>\n",
       "      <td>0.000000</td>\n",
       "    </tr>\n",
       "    <tr>\n",
       "      <th>extensive_investment_exp</th>\n",
       "      <td>0.00000</td>\n",
       "      <td>0.000000</td>\n",
       "      <td>0.000000</td>\n",
       "      <td>0.000000</td>\n",
       "      <td>0.000000</td>\n",
       "    </tr>\n",
       "    <tr>\n",
       "      <th>good_investment_exp</th>\n",
       "      <td>0.00000</td>\n",
       "      <td>0.000000</td>\n",
       "      <td>0.000000</td>\n",
       "      <td>0.000000</td>\n",
       "      <td>0.000000</td>\n",
       "    </tr>\n",
       "    <tr>\n",
       "      <th>no_investment_exp</th>\n",
       "      <td>0.00000</td>\n",
       "      <td>0.000000</td>\n",
       "      <td>0.000000</td>\n",
       "      <td>0.000000</td>\n",
       "      <td>0.000000</td>\n",
       "    </tr>\n",
       "    <tr>\n",
       "      <th>not_important_liq_need</th>\n",
       "      <td>0.00000</td>\n",
       "      <td>0.000000</td>\n",
       "      <td>0.000000</td>\n",
       "      <td>0.000000</td>\n",
       "      <td>0.000000</td>\n",
       "    </tr>\n",
       "    <tr>\n",
       "      <th>somewhat_important_liq_need</th>\n",
       "      <td>0.00000</td>\n",
       "      <td>0.000000</td>\n",
       "      <td>0.000000</td>\n",
       "      <td>0.000000</td>\n",
       "      <td>0.000000</td>\n",
       "    </tr>\n",
       "    <tr>\n",
       "      <th>Android</th>\n",
       "      <td>1.00000</td>\n",
       "      <td>1.000000</td>\n",
       "      <td>0.000000</td>\n",
       "      <td>1.000000</td>\n",
       "      <td>1.000000</td>\n",
       "    </tr>\n",
       "    <tr>\n",
       "      <th>iOS</th>\n",
       "      <td>0.00000</td>\n",
       "      <td>0.000000</td>\n",
       "      <td>1.000000</td>\n",
       "      <td>0.000000</td>\n",
       "      <td>0.000000</td>\n",
       "    </tr>\n",
       "    <tr>\n",
       "      <th>long_time_horizon</th>\n",
       "      <td>0.00000</td>\n",
       "      <td>0.000000</td>\n",
       "      <td>1.000000</td>\n",
       "      <td>0.000000</td>\n",
       "      <td>1.000000</td>\n",
       "    </tr>\n",
       "    <tr>\n",
       "      <th>med_time_horizon</th>\n",
       "      <td>1.00000</td>\n",
       "      <td>0.000000</td>\n",
       "      <td>0.000000</td>\n",
       "      <td>0.000000</td>\n",
       "      <td>0.000000</td>\n",
       "    </tr>\n",
       "  </tbody>\n",
       "</table>\n",
       "</div>"
      ],
      "text/plain": [
       "                                    0         1         2         3         4\n",
       "time_spent                    0.00377  0.001886  0.001139  0.000117  0.000932\n",
       "instrument_type_first_traded  1.00000  1.000000  1.000000  1.000000  1.000000\n",
       "first_deposit_amount          0.00080  0.004000  0.000500  0.002000  0.000400\n",
       "churn                         0.00000  0.000000  0.000000  0.000000  0.000000\n",
       "low_risk_tolerance            0.00000  0.000000  0.000000  0.000000  0.000000\n",
       "med_risk_tolerance            0.00000  1.000000  1.000000  1.000000  0.000000\n",
       "extensive_investment_exp      0.00000  0.000000  0.000000  0.000000  0.000000\n",
       "good_investment_exp           0.00000  0.000000  0.000000  0.000000  0.000000\n",
       "no_investment_exp             0.00000  0.000000  0.000000  0.000000  0.000000\n",
       "not_important_liq_need        0.00000  0.000000  0.000000  0.000000  0.000000\n",
       "somewhat_important_liq_need   0.00000  0.000000  0.000000  0.000000  0.000000\n",
       "Android                       1.00000  1.000000  0.000000  1.000000  1.000000\n",
       "iOS                           0.00000  0.000000  1.000000  0.000000  0.000000\n",
       "long_time_horizon             0.00000  0.000000  1.000000  0.000000  1.000000\n",
       "med_time_horizon              1.00000  0.000000  0.000000  0.000000  0.000000"
      ]
     },
     "execution_count": 49,
     "metadata": {},
     "output_type": "execute_result"
    }
   ],
   "source": [
    "data.head().T"
   ]
  },
  {
   "cell_type": "markdown",
   "id": "cd8621d8",
   "metadata": {},
   "source": [
    "## Two way interaction between variables"
   ]
  },
  {
   "cell_type": "code",
   "execution_count": 50,
   "id": "f67836ce",
   "metadata": {},
   "outputs": [],
   "source": [
    "X = data.drop(\"churn\", axis=1)\n",
    "y = data['churn'].tolist()"
   ]
  },
  {
   "cell_type": "code",
   "execution_count": 51,
   "id": "59fbf329",
   "metadata": {},
   "outputs": [],
   "source": [
    "from itertools import combinations\n",
    "from sklearn.preprocessing import PolynomialFeatures\n",
    "orig_columns = X.columns\n",
    "new_columns = list(combinations(orig_columns, 2))\n",
    "new_column_names = [\"_\".join(col) for col in new_columns]"
   ]
  },
  {
   "cell_type": "code",
   "execution_count": 52,
   "id": "0d6493d6",
   "metadata": {},
   "outputs": [],
   "source": [
    "poly = PolynomialFeatures(interaction_only=True, include_bias=False)\n",
    "X = poly.fit_transform(X)"
   ]
  },
  {
   "cell_type": "code",
   "execution_count": 53,
   "id": "4777058c",
   "metadata": {},
   "outputs": [],
   "source": [
    "X = pd.DataFrame(X, columns=list(orig_columns) + new_column_names)"
   ]
  },
  {
   "cell_type": "code",
   "execution_count": 54,
   "id": "917eeada",
   "metadata": {},
   "outputs": [
    {
     "data": {
      "text/html": [
       "<div>\n",
       "<style scoped>\n",
       "    .dataframe tbody tr th:only-of-type {\n",
       "        vertical-align: middle;\n",
       "    }\n",
       "\n",
       "    .dataframe tbody tr th {\n",
       "        vertical-align: top;\n",
       "    }\n",
       "\n",
       "    .dataframe thead th {\n",
       "        text-align: right;\n",
       "    }\n",
       "</style>\n",
       "<table border=\"1\" class=\"dataframe\">\n",
       "  <thead>\n",
       "    <tr style=\"text-align: right;\">\n",
       "      <th></th>\n",
       "      <th>0</th>\n",
       "      <th>1</th>\n",
       "      <th>2</th>\n",
       "      <th>3</th>\n",
       "      <th>4</th>\n",
       "    </tr>\n",
       "  </thead>\n",
       "  <tbody>\n",
       "    <tr>\n",
       "      <th>time_spent</th>\n",
       "      <td>0.00377</td>\n",
       "      <td>0.001886</td>\n",
       "      <td>0.001139</td>\n",
       "      <td>0.000117</td>\n",
       "      <td>0.000932</td>\n",
       "    </tr>\n",
       "    <tr>\n",
       "      <th>instrument_type_first_traded</th>\n",
       "      <td>1.00000</td>\n",
       "      <td>1.000000</td>\n",
       "      <td>1.000000</td>\n",
       "      <td>1.000000</td>\n",
       "      <td>1.000000</td>\n",
       "    </tr>\n",
       "    <tr>\n",
       "      <th>first_deposit_amount</th>\n",
       "      <td>0.00080</td>\n",
       "      <td>0.004000</td>\n",
       "      <td>0.000500</td>\n",
       "      <td>0.002000</td>\n",
       "      <td>0.000400</td>\n",
       "    </tr>\n",
       "    <tr>\n",
       "      <th>low_risk_tolerance</th>\n",
       "      <td>0.00000</td>\n",
       "      <td>0.000000</td>\n",
       "      <td>0.000000</td>\n",
       "      <td>0.000000</td>\n",
       "      <td>0.000000</td>\n",
       "    </tr>\n",
       "    <tr>\n",
       "      <th>med_risk_tolerance</th>\n",
       "      <td>0.00000</td>\n",
       "      <td>1.000000</td>\n",
       "      <td>1.000000</td>\n",
       "      <td>1.000000</td>\n",
       "      <td>0.000000</td>\n",
       "    </tr>\n",
       "    <tr>\n",
       "      <th>...</th>\n",
       "      <td>...</td>\n",
       "      <td>...</td>\n",
       "      <td>...</td>\n",
       "      <td>...</td>\n",
       "      <td>...</td>\n",
       "    </tr>\n",
       "    <tr>\n",
       "      <th>Android_long_time_horizon</th>\n",
       "      <td>0.00000</td>\n",
       "      <td>0.000000</td>\n",
       "      <td>0.000000</td>\n",
       "      <td>0.000000</td>\n",
       "      <td>1.000000</td>\n",
       "    </tr>\n",
       "    <tr>\n",
       "      <th>Android_med_time_horizon</th>\n",
       "      <td>1.00000</td>\n",
       "      <td>0.000000</td>\n",
       "      <td>0.000000</td>\n",
       "      <td>0.000000</td>\n",
       "      <td>0.000000</td>\n",
       "    </tr>\n",
       "    <tr>\n",
       "      <th>iOS_long_time_horizon</th>\n",
       "      <td>0.00000</td>\n",
       "      <td>0.000000</td>\n",
       "      <td>1.000000</td>\n",
       "      <td>0.000000</td>\n",
       "      <td>0.000000</td>\n",
       "    </tr>\n",
       "    <tr>\n",
       "      <th>iOS_med_time_horizon</th>\n",
       "      <td>0.00000</td>\n",
       "      <td>0.000000</td>\n",
       "      <td>0.000000</td>\n",
       "      <td>0.000000</td>\n",
       "      <td>0.000000</td>\n",
       "    </tr>\n",
       "    <tr>\n",
       "      <th>long_time_horizon_med_time_horizon</th>\n",
       "      <td>0.00000</td>\n",
       "      <td>0.000000</td>\n",
       "      <td>0.000000</td>\n",
       "      <td>0.000000</td>\n",
       "      <td>0.000000</td>\n",
       "    </tr>\n",
       "  </tbody>\n",
       "</table>\n",
       "<p>105 rows × 5 columns</p>\n",
       "</div>"
      ],
      "text/plain": [
       "                                          0         1         2         3  \\\n",
       "time_spent                          0.00377  0.001886  0.001139  0.000117   \n",
       "instrument_type_first_traded        1.00000  1.000000  1.000000  1.000000   \n",
       "first_deposit_amount                0.00080  0.004000  0.000500  0.002000   \n",
       "low_risk_tolerance                  0.00000  0.000000  0.000000  0.000000   \n",
       "med_risk_tolerance                  0.00000  1.000000  1.000000  1.000000   \n",
       "...                                     ...       ...       ...       ...   \n",
       "Android_long_time_horizon           0.00000  0.000000  0.000000  0.000000   \n",
       "Android_med_time_horizon            1.00000  0.000000  0.000000  0.000000   \n",
       "iOS_long_time_horizon               0.00000  0.000000  1.000000  0.000000   \n",
       "iOS_med_time_horizon                0.00000  0.000000  0.000000  0.000000   \n",
       "long_time_horizon_med_time_horizon  0.00000  0.000000  0.000000  0.000000   \n",
       "\n",
       "                                           4  \n",
       "time_spent                          0.000932  \n",
       "instrument_type_first_traded        1.000000  \n",
       "first_deposit_amount                0.000400  \n",
       "low_risk_tolerance                  0.000000  \n",
       "med_risk_tolerance                  0.000000  \n",
       "...                                      ...  \n",
       "Android_long_time_horizon           1.000000  \n",
       "Android_med_time_horizon            0.000000  \n",
       "iOS_long_time_horizon               0.000000  \n",
       "iOS_med_time_horizon                0.000000  \n",
       "long_time_horizon_med_time_horizon  0.000000  \n",
       "\n",
       "[105 rows x 5 columns]"
      ]
     },
     "execution_count": 54,
     "metadata": {},
     "output_type": "execute_result"
    }
   ],
   "source": [
    "X.head().T"
   ]
  },
  {
   "cell_type": "markdown",
   "id": "2c71bcbd",
   "metadata": {},
   "source": [
    "## Remove all zero columns"
   ]
  },
  {
   "cell_type": "code",
   "execution_count": 55,
   "id": "cbbbc5bd",
   "metadata": {},
   "outputs": [],
   "source": [
    "zero_indices = [i for i,x in enumerate(list((X == 0).all())) if x]\n",
    "X = X.drop(X.columns[zero_indices], axis=1)"
   ]
  },
  {
   "cell_type": "markdown",
   "id": "6714ef8e",
   "metadata": {},
   "source": [
    "Split into training and test set:\n",
    "\n",
    "It is important to stratify our split since it is an imbalanced dataset"
   ]
  },
  {
   "cell_type": "code",
   "execution_count": 56,
   "id": "20fdc938",
   "metadata": {},
   "outputs": [],
   "source": [
    "from sklearn.model_selection import train_test_split\n",
    "\n",
    "X_train, X_test, y_train, y_test = train_test_split(X, y, test_size=0.3, random_state=42, stratify=y)"
   ]
  },
  {
   "cell_type": "markdown",
   "id": "e21b551a",
   "metadata": {},
   "source": [
    "## Feature Selection"
   ]
  },
  {
   "cell_type": "code",
   "execution_count": 57,
   "id": "ba64324f",
   "metadata": {},
   "outputs": [],
   "source": [
    "from sklearn.feature_selection import SelectKBest, chi2\n",
    "select = SelectKBest(chi2, k=20).fit(X_train, y_train)\n",
    "indices_selected = select.get_support(indices=True)\n",
    "selected_colnames = [X_train.columns[i] for i in indices_selected]"
   ]
  },
  {
   "cell_type": "code",
   "execution_count": 58,
   "id": "aeeb1a32",
   "metadata": {},
   "outputs": [
    {
     "data": {
      "text/html": [
       "<div>\n",
       "<style scoped>\n",
       "    .dataframe tbody tr th:only-of-type {\n",
       "        vertical-align: middle;\n",
       "    }\n",
       "\n",
       "    .dataframe tbody tr th {\n",
       "        vertical-align: top;\n",
       "    }\n",
       "\n",
       "    .dataframe thead th {\n",
       "        text-align: right;\n",
       "    }\n",
       "</style>\n",
       "<table border=\"1\" class=\"dataframe\">\n",
       "  <thead>\n",
       "    <tr style=\"text-align: right;\">\n",
       "      <th></th>\n",
       "      <th>Feature</th>\n",
       "      <th>chi2_score</th>\n",
       "    </tr>\n",
       "  </thead>\n",
       "  <tbody>\n",
       "    <tr>\n",
       "      <th>85</th>\n",
       "      <td>no_investment_exp_med_time_horizon</td>\n",
       "      <td>8.718193</td>\n",
       "    </tr>\n",
       "    <tr>\n",
       "      <th>96</th>\n",
       "      <td>Android_med_time_horizon</td>\n",
       "      <td>6.803074</td>\n",
       "    </tr>\n",
       "    <tr>\n",
       "      <th>82</th>\n",
       "      <td>no_investment_exp_Android</td>\n",
       "      <td>2.977203</td>\n",
       "    </tr>\n",
       "    <tr>\n",
       "      <th>38</th>\n",
       "      <td>instrument_type_first_traded_med_time_horizon</td>\n",
       "      <td>1.877379</td>\n",
       "    </tr>\n",
       "    <tr>\n",
       "      <th>13</th>\n",
       "      <td>med_time_horizon</td>\n",
       "      <td>1.415936</td>\n",
       "    </tr>\n",
       "    <tr>\n",
       "      <th>12</th>\n",
       "      <td>long_time_horizon</td>\n",
       "      <td>0.672811</td>\n",
       "    </tr>\n",
       "    <tr>\n",
       "      <th>4</th>\n",
       "      <td>med_risk_tolerance</td>\n",
       "      <td>0.635945</td>\n",
       "    </tr>\n",
       "    <tr>\n",
       "      <th>37</th>\n",
       "      <td>instrument_type_first_traded_long_time_horizon</td>\n",
       "      <td>0.558628</td>\n",
       "    </tr>\n",
       "    <tr>\n",
       "      <th>29</th>\n",
       "      <td>instrument_type_first_traded_med_risk_tolerance</td>\n",
       "      <td>0.557604</td>\n",
       "    </tr>\n",
       "    <tr>\n",
       "      <th>83</th>\n",
       "      <td>no_investment_exp_iOS</td>\n",
       "      <td>0.481311</td>\n",
       "    </tr>\n",
       "    <tr>\n",
       "      <th>97</th>\n",
       "      <td>iOS_long_time_horizon</td>\n",
       "      <td>0.480799</td>\n",
       "    </tr>\n",
       "    <tr>\n",
       "      <th>65</th>\n",
       "      <td>med_risk_tolerance_iOS</td>\n",
       "      <td>0.462366</td>\n",
       "    </tr>\n",
       "    <tr>\n",
       "      <th>6</th>\n",
       "      <td>good_investment_exp</td>\n",
       "      <td>0.410650</td>\n",
       "    </tr>\n",
       "    <tr>\n",
       "      <th>9</th>\n",
       "      <td>somewhat_important_liq_need</td>\n",
       "      <td>0.406554</td>\n",
       "    </tr>\n",
       "    <tr>\n",
       "      <th>91</th>\n",
       "      <td>somewhat_important_liq_need_iOS</td>\n",
       "      <td>0.392729</td>\n",
       "    </tr>\n",
       "    <tr>\n",
       "      <th>34</th>\n",
       "      <td>instrument_type_first_traded_somewhat_importan...</td>\n",
       "      <td>0.354327</td>\n",
       "    </tr>\n",
       "    <tr>\n",
       "      <th>31</th>\n",
       "      <td>instrument_type_first_traded_good_investment_exp</td>\n",
       "      <td>0.336918</td>\n",
       "    </tr>\n",
       "    <tr>\n",
       "      <th>32</th>\n",
       "      <td>instrument_type_first_traded_no_investment_exp</td>\n",
       "      <td>0.313825</td>\n",
       "    </tr>\n",
       "    <tr>\n",
       "      <th>77</th>\n",
       "      <td>good_investment_exp_iOS</td>\n",
       "      <td>0.292883</td>\n",
       "    </tr>\n",
       "    <tr>\n",
       "      <th>61</th>\n",
       "      <td>med_risk_tolerance_no_investment_exp</td>\n",
       "      <td>0.261649</td>\n",
       "    </tr>\n",
       "  </tbody>\n",
       "</table>\n",
       "</div>"
      ],
      "text/plain": [
       "                                              Feature  chi2_score\n",
       "85                 no_investment_exp_med_time_horizon    8.718193\n",
       "96                           Android_med_time_horizon    6.803074\n",
       "82                          no_investment_exp_Android    2.977203\n",
       "38      instrument_type_first_traded_med_time_horizon    1.877379\n",
       "13                                   med_time_horizon    1.415936\n",
       "12                                  long_time_horizon    0.672811\n",
       "4                                  med_risk_tolerance    0.635945\n",
       "37     instrument_type_first_traded_long_time_horizon    0.558628\n",
       "29    instrument_type_first_traded_med_risk_tolerance    0.557604\n",
       "83                              no_investment_exp_iOS    0.481311\n",
       "97                              iOS_long_time_horizon    0.480799\n",
       "65                             med_risk_tolerance_iOS    0.462366\n",
       "6                                 good_investment_exp    0.410650\n",
       "9                         somewhat_important_liq_need    0.406554\n",
       "91                    somewhat_important_liq_need_iOS    0.392729\n",
       "34  instrument_type_first_traded_somewhat_importan...    0.354327\n",
       "31   instrument_type_first_traded_good_investment_exp    0.336918\n",
       "32     instrument_type_first_traded_no_investment_exp    0.313825\n",
       "77                            good_investment_exp_iOS    0.292883\n",
       "61               med_risk_tolerance_no_investment_exp    0.261649"
      ]
     },
     "execution_count": 58,
     "metadata": {},
     "output_type": "execute_result"
    }
   ],
   "source": [
    "chi2_scores = pd.DataFrame(\n",
    "    {'Feature': X_train.columns,\n",
    "     'chi2_score': select.scores_,\n",
    "    })\n",
    "chi2_scores.sort_values(by=\"chi2_score\", ascending=False).head(20)"
   ]
  },
  {
   "cell_type": "code",
   "execution_count": 59,
   "id": "9c6a2ed8",
   "metadata": {},
   "outputs": [],
   "source": [
    "X_train_selected = X_train[selected_colnames]\n",
    "X_test_selected = X_test[selected_colnames]"
   ]
  },
  {
   "cell_type": "markdown",
   "id": "8240868e",
   "metadata": {},
   "source": [
    "## Model Building"
   ]
  },
  {
   "cell_type": "code",
   "execution_count": 60,
   "id": "1e217175",
   "metadata": {},
   "outputs": [],
   "source": [
    "from sklearn.metrics import roc_auc_score\n",
    "from sklearn import metrics\n",
    "from sklearn.metrics import classification_report\n",
    "\n",
    "from sklearn.linear_model import LogisticRegression\n",
    "from sklearn.neighbors import KNeighborsClassifier\n",
    "from sklearn.svm import SVC\n",
    "from sklearn.neural_network import MLPClassifier\n",
    "from sklearn.gaussian_process import GaussianProcessClassifier\n",
    "from sklearn.gaussian_process.kernels import RBF\n",
    "from sklearn.tree import DecisionTreeClassifier\n",
    "from sklearn.ensemble import RandomForestClassifier, AdaBoostClassifier\n",
    "from sklearn.naive_bayes import GaussianNB\n",
    "from sklearn.discriminant_analysis import QuadraticDiscriminantAnalysis"
   ]
  },
  {
   "cell_type": "markdown",
   "id": "9e71397f",
   "metadata": {},
   "source": [
    "## ROC Curve - Neural Net"
   ]
  },
  {
   "cell_type": "code",
   "execution_count": 61,
   "id": "aaaaff32",
   "metadata": {
    "scrolled": true
   },
   "outputs": [
    {
     "name": "stderr",
     "output_type": "stream",
     "text": [
      "C:\\Users\\Ashwin\\Anaconda3\\envs\\infrrd_env\\lib\\site-packages\\seaborn\\_decorators.py:36: FutureWarning: Pass the following variables as keyword args: x, y. From version 0.12, the only valid positional argument will be `data`, and passing other arguments without an explicit keyword will result in an error or misinterpretation.\n",
      "  warnings.warn(\n"
     ]
    },
    {
     "data": {
      "text/plain": [
       "<AxesSubplot:>"
      ]
     },
     "execution_count": 61,
     "metadata": {},
     "output_type": "execute_result"
    },
    {
     "data": {
      "image/png": "[encoded data removed]",
      "text/plain": [
       "<Figure size 360x360 with 1 Axes>"
      ]
     },
     "metadata": {},
     "output_type": "display_data"
    }
   ],
   "source": [
    "clf = MLPClassifier(alpha=1, max_iter=1000).fit(X_train_selected, y_train)\n",
    "y_pred_prob = clf.predict_proba(X_test_selected)[:, 1]\n",
    "fpr, tpr, thresholds = metrics.roc_curve(y_test, y_pred_prob, pos_label=1)\n",
    "sns.lineplot(fpr, tpr)"
   ]
  },
  {
   "cell_type": "markdown",
   "id": "c8ad6d97",
   "metadata": {},
   "source": [
    "## ROC Curve - Logistic Regression"
   ]
  },
  {
   "cell_type": "code",
   "execution_count": 62,
   "id": "afad2530",
   "metadata": {},
   "outputs": [
    {
     "name": "stderr",
     "output_type": "stream",
     "text": [
      "C:\\Users\\Ashwin\\Anaconda3\\envs\\infrrd_env\\lib\\site-packages\\seaborn\\_decorators.py:36: FutureWarning: Pass the following variables as keyword args: x, y. From version 0.12, the only valid positional argument will be `data`, and passing other arguments without an explicit keyword will result in an error or misinterpretation.\n",
      "  warnings.warn(\n"
     ]
    },
    {
     "data": {
      "text/plain": [
       "<AxesSubplot:>"
      ]
     },
     "execution_count": 62,
     "metadata": {},
     "output_type": "execute_result"
    },
    {
     "data": {
      "image/png": "[encoded data removed]",
      "text/plain": [
       "<Figure size 360x360 with 1 Axes>"
      ]
     },
     "metadata": {},
     "output_type": "display_data"
    }
   ],
   "source": [
    "clf = LogisticRegression(solver=\"liblinear\", random_state=0).fit(X_train_selected, y_train)\n",
    "y_pred_prob = clf.predict_proba(X_test_selected)[:, 1]\n",
    "fpr, tpr, thresholds = metrics.roc_curve(y_test, y_pred_prob, pos_label=1)\n",
    "sns.lineplot(fpr, tpr)"
   ]
  },
  {
   "cell_type": "markdown",
   "id": "7a9e43d9",
   "metadata": {},
   "source": [
    "## AUC Score"
   ]
  },
  {
   "cell_type": "code",
   "execution_count": 63,
   "id": "1cf5d004",
   "metadata": {},
   "outputs": [],
   "source": [
    "names = [\n",
    "    \"Logistic Regression\",\n",
    "    \"Nearest Neighbors\",\n",
    "    \"Linear SVM\",\n",
    "    \"RBF SVM\",\n",
    "    \"Gaussian Process\",\n",
    "    \"Decision Tree\",\n",
    "    \"Random Forest\",\n",
    "    \"Neural Net\",\n",
    "    \"AdaBoost\",\n",
    "    \"Naive Bayes\",\n",
    "    \"QDA\",\n",
    "]\n",
    "\n",
    "classifiers = [\n",
    "    LogisticRegression(solver=\"liblinear\", random_state=0),\n",
    "    KNeighborsClassifier(3),\n",
    "    SVC(kernel=\"linear\", C=0.025, probability=True),\n",
    "    SVC(gamma=2, C=1, probability=True),\n",
    "    GaussianProcessClassifier(1.0 * RBF(1.0)),\n",
    "    DecisionTreeClassifier(max_depth=5),\n",
    "    RandomForestClassifier(max_depth=5, n_estimators=10, max_features=1),\n",
    "    MLPClassifier(alpha=1, max_iter=1000),\n",
    "    AdaBoostClassifier(),\n",
    "    GaussianNB(),\n",
    "    QuadraticDiscriminantAnalysis(),\n",
    "]"
   ]
  },
  {
   "cell_type": "code",
   "execution_count": 64,
   "id": "e280e978",
   "metadata": {
    "scrolled": true
   },
   "outputs": [
    {
     "name": "stderr",
     "output_type": "stream",
     "text": [
      "C:\\Users\\Ashwin\\Anaconda3\\envs\\infrrd_env\\lib\\site-packages\\sklearn\\discriminant_analysis.py:878: UserWarning: Variables are collinear\n",
      "  warnings.warn(\"Variables are collinear\")\n"
     ]
    }
   ],
   "source": [
    "scores = pd.DataFrame(columns=['Model', 'AUC'])\n",
    "for name, clf in zip(names, classifiers):\n",
    "    try:\n",
    "        clf = clf.fit(X_train_selected, y_train)\n",
    "        y_pred_prob = clf.predict_proba(X_test_selected)[:, 1]\n",
    "        auc = roc_auc_score(y_test, y_pred_prob)\n",
    "        row = {\"Model\": name, \"AUC\": auc}\n",
    "        scores = scores.append(row, ignore_index = True)\n",
    "    except:\n",
    "        print(name)"
   ]
  },
  {
   "cell_type": "code",
   "execution_count": 65,
   "id": "f2b10a02",
   "metadata": {},
   "outputs": [
    {
     "data": {
      "text/html": [
       "<div>\n",
       "<style scoped>\n",
       "    .dataframe tbody tr th:only-of-type {\n",
       "        vertical-align: middle;\n",
       "    }\n",
       "\n",
       "    .dataframe tbody tr th {\n",
       "        vertical-align: top;\n",
       "    }\n",
       "\n",
       "    .dataframe thead th {\n",
       "        text-align: right;\n",
       "    }\n",
       "</style>\n",
       "<table border=\"1\" class=\"dataframe\">\n",
       "  <thead>\n",
       "    <tr style=\"text-align: right;\">\n",
       "      <th></th>\n",
       "      <th>Model</th>\n",
       "      <th>AUC</th>\n",
       "    </tr>\n",
       "  </thead>\n",
       "  <tbody>\n",
       "    <tr>\n",
       "      <th>7</th>\n",
       "      <td>Neural Net</td>\n",
       "      <td>0.927761</td>\n",
       "    </tr>\n",
       "    <tr>\n",
       "      <th>8</th>\n",
       "      <td>AdaBoost</td>\n",
       "      <td>0.920597</td>\n",
       "    </tr>\n",
       "    <tr>\n",
       "      <th>0</th>\n",
       "      <td>Logistic Regression</td>\n",
       "      <td>0.918806</td>\n",
       "    </tr>\n",
       "    <tr>\n",
       "      <th>9</th>\n",
       "      <td>Naive Bayes</td>\n",
       "      <td>0.890448</td>\n",
       "    </tr>\n",
       "    <tr>\n",
       "      <th>5</th>\n",
       "      <td>Decision Tree</td>\n",
       "      <td>0.878209</td>\n",
       "    </tr>\n",
       "    <tr>\n",
       "      <th>6</th>\n",
       "      <td>Random Forest</td>\n",
       "      <td>0.737612</td>\n",
       "    </tr>\n",
       "    <tr>\n",
       "      <th>4</th>\n",
       "      <td>Gaussian Process</td>\n",
       "      <td>0.573731</td>\n",
       "    </tr>\n",
       "    <tr>\n",
       "      <th>1</th>\n",
       "      <td>Nearest Neighbors</td>\n",
       "      <td>0.500000</td>\n",
       "    </tr>\n",
       "    <tr>\n",
       "      <th>2</th>\n",
       "      <td>Linear SVM</td>\n",
       "      <td>0.500000</td>\n",
       "    </tr>\n",
       "    <tr>\n",
       "      <th>3</th>\n",
       "      <td>RBF SVM</td>\n",
       "      <td>0.500000</td>\n",
       "    </tr>\n",
       "    <tr>\n",
       "      <th>10</th>\n",
       "      <td>QDA</td>\n",
       "      <td>0.390448</td>\n",
       "    </tr>\n",
       "  </tbody>\n",
       "</table>\n",
       "</div>"
      ],
      "text/plain": [
       "                  Model       AUC\n",
       "7            Neural Net  0.927761\n",
       "8              AdaBoost  0.920597\n",
       "0   Logistic Regression  0.918806\n",
       "9           Naive Bayes  0.890448\n",
       "5         Decision Tree  0.878209\n",
       "6         Random Forest  0.737612\n",
       "4      Gaussian Process  0.573731\n",
       "1     Nearest Neighbors  0.500000\n",
       "2            Linear SVM  0.500000\n",
       "3               RBF SVM  0.500000\n",
       "10                  QDA  0.390448"
      ]
     },
     "execution_count": 65,
     "metadata": {},
     "output_type": "execute_result"
    }
   ],
   "source": [
    "scores.sort_values(by=\"AUC\", ascending=False)"
   ]
  },
  {
   "cell_type": "code",
   "execution_count": null,
   "id": "eb9a0f5e",
   "metadata": {},
   "outputs": [],
   "source": []
  }
 ],
 "metadata": {
  "kernelspec": {
   "display_name": "Python [conda env:infrrd_env]",
   "language": "python",
   "name": "conda-env-infrrd_env-py"
  },
  "language_info": {
   "codemirror_mode": {
    "name": "ipython",
    "version": 3
   },
   "file_extension": ".py",
   "mimetype": "text/x-python",
   "name": "python",
   "nbconvert_exporter": "python",
   "pygments_lexer": "ipython3",
   "version": "3.8.12"
  }
 },
 "nbformat": 4,
 "nbformat_minor": 5
}
